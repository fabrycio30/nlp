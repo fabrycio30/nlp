{
  "nbformat": 4,
  "nbformat_minor": 0,
  "metadata": {
    "colab": {
      "provenance": [],
      "machine_shape": "hm"
    },
    "kernelspec": {
      "name": "python3",
      "display_name": "Python 3"
    },
    "language_info": {
      "name": "python"
    },
    "accelerator": "GPU",
    "gpuClass": "standard",
    "widgets": {
      "application/vnd.jupyter.widget-state+json": {
        "ac8aae282b594e3c96c064ad875d6816": {
          "model_module": "@jupyter-widgets/controls",
          "model_name": "HBoxModel",
          "model_module_version": "1.5.0",
          "state": {
            "_dom_classes": [],
            "_model_module": "@jupyter-widgets/controls",
            "_model_module_version": "1.5.0",
            "_model_name": "HBoxModel",
            "_view_count": null,
            "_view_module": "@jupyter-widgets/controls",
            "_view_module_version": "1.5.0",
            "_view_name": "HBoxView",
            "box_style": "",
            "children": [
              "IPY_MODEL_e451bbe3c0374c31b86d3c6c46cb4182",
              "IPY_MODEL_2eda5c28eb62480d918ffd21ec6b93e5",
              "IPY_MODEL_6def3e96777a48e296f20c0f450e1d8c"
            ],
            "layout": "IPY_MODEL_e5ad29c2aedf4433894a0f4eb5609570"
          }
        },
        "e451bbe3c0374c31b86d3c6c46cb4182": {
          "model_module": "@jupyter-widgets/controls",
          "model_name": "HTMLModel",
          "model_module_version": "1.5.0",
          "state": {
            "_dom_classes": [],
            "_model_module": "@jupyter-widgets/controls",
            "_model_module_version": "1.5.0",
            "_model_name": "HTMLModel",
            "_view_count": null,
            "_view_module": "@jupyter-widgets/controls",
            "_view_module_version": "1.5.0",
            "_view_name": "HTMLView",
            "description": "",
            "description_tooltip": null,
            "layout": "IPY_MODEL_9d2c01e763e441c8a10f76c904279d38",
            "placeholder": "​",
            "style": "IPY_MODEL_9a585d19eccd4a0c9b467b6ae2b5ac66",
            "value": "Downloading: 100%"
          }
        },
        "2eda5c28eb62480d918ffd21ec6b93e5": {
          "model_module": "@jupyter-widgets/controls",
          "model_name": "FloatProgressModel",
          "model_module_version": "1.5.0",
          "state": {
            "_dom_classes": [],
            "_model_module": "@jupyter-widgets/controls",
            "_model_module_version": "1.5.0",
            "_model_name": "FloatProgressModel",
            "_view_count": null,
            "_view_module": "@jupyter-widgets/controls",
            "_view_module_version": "1.5.0",
            "_view_name": "ProgressView",
            "bar_style": "success",
            "description": "",
            "description_tooltip": null,
            "layout": "IPY_MODEL_e37f425d0f6b482bb7623346b15182e8",
            "max": 231508,
            "min": 0,
            "orientation": "horizontal",
            "style": "IPY_MODEL_0e19c716680540fa827e1a6a93e42cee",
            "value": 231508
          }
        },
        "6def3e96777a48e296f20c0f450e1d8c": {
          "model_module": "@jupyter-widgets/controls",
          "model_name": "HTMLModel",
          "model_module_version": "1.5.0",
          "state": {
            "_dom_classes": [],
            "_model_module": "@jupyter-widgets/controls",
            "_model_module_version": "1.5.0",
            "_model_name": "HTMLModel",
            "_view_count": null,
            "_view_module": "@jupyter-widgets/controls",
            "_view_module_version": "1.5.0",
            "_view_name": "HTMLView",
            "description": "",
            "description_tooltip": null,
            "layout": "IPY_MODEL_fbe1353d06f140c1a2cd0e65350680ae",
            "placeholder": "​",
            "style": "IPY_MODEL_9f4bb21577124d489d8d81dfaa811466",
            "value": " 232k/232k [00:00&lt;00:00, 336kB/s]"
          }
        },
        "e5ad29c2aedf4433894a0f4eb5609570": {
          "model_module": "@jupyter-widgets/base",
          "model_name": "LayoutModel",
          "model_module_version": "1.2.0",
          "state": {
            "_model_module": "@jupyter-widgets/base",
            "_model_module_version": "1.2.0",
            "_model_name": "LayoutModel",
            "_view_count": null,
            "_view_module": "@jupyter-widgets/base",
            "_view_module_version": "1.2.0",
            "_view_name": "LayoutView",
            "align_content": null,
            "align_items": null,
            "align_self": null,
            "border": null,
            "bottom": null,
            "display": null,
            "flex": null,
            "flex_flow": null,
            "grid_area": null,
            "grid_auto_columns": null,
            "grid_auto_flow": null,
            "grid_auto_rows": null,
            "grid_column": null,
            "grid_gap": null,
            "grid_row": null,
            "grid_template_areas": null,
            "grid_template_columns": null,
            "grid_template_rows": null,
            "height": null,
            "justify_content": null,
            "justify_items": null,
            "left": null,
            "margin": null,
            "max_height": null,
            "max_width": null,
            "min_height": null,
            "min_width": null,
            "object_fit": null,
            "object_position": null,
            "order": null,
            "overflow": null,
            "overflow_x": null,
            "overflow_y": null,
            "padding": null,
            "right": null,
            "top": null,
            "visibility": null,
            "width": null
          }
        },
        "9d2c01e763e441c8a10f76c904279d38": {
          "model_module": "@jupyter-widgets/base",
          "model_name": "LayoutModel",
          "model_module_version": "1.2.0",
          "state": {
            "_model_module": "@jupyter-widgets/base",
            "_model_module_version": "1.2.0",
            "_model_name": "LayoutModel",
            "_view_count": null,
            "_view_module": "@jupyter-widgets/base",
            "_view_module_version": "1.2.0",
            "_view_name": "LayoutView",
            "align_content": null,
            "align_items": null,
            "align_self": null,
            "border": null,
            "bottom": null,
            "display": null,
            "flex": null,
            "flex_flow": null,
            "grid_area": null,
            "grid_auto_columns": null,
            "grid_auto_flow": null,
            "grid_auto_rows": null,
            "grid_column": null,
            "grid_gap": null,
            "grid_row": null,
            "grid_template_areas": null,
            "grid_template_columns": null,
            "grid_template_rows": null,
            "height": null,
            "justify_content": null,
            "justify_items": null,
            "left": null,
            "margin": null,
            "max_height": null,
            "max_width": null,
            "min_height": null,
            "min_width": null,
            "object_fit": null,
            "object_position": null,
            "order": null,
            "overflow": null,
            "overflow_x": null,
            "overflow_y": null,
            "padding": null,
            "right": null,
            "top": null,
            "visibility": null,
            "width": null
          }
        },
        "9a585d19eccd4a0c9b467b6ae2b5ac66": {
          "model_module": "@jupyter-widgets/controls",
          "model_name": "DescriptionStyleModel",
          "model_module_version": "1.5.0",
          "state": {
            "_model_module": "@jupyter-widgets/controls",
            "_model_module_version": "1.5.0",
            "_model_name": "DescriptionStyleModel",
            "_view_count": null,
            "_view_module": "@jupyter-widgets/base",
            "_view_module_version": "1.2.0",
            "_view_name": "StyleView",
            "description_width": ""
          }
        },
        "e37f425d0f6b482bb7623346b15182e8": {
          "model_module": "@jupyter-widgets/base",
          "model_name": "LayoutModel",
          "model_module_version": "1.2.0",
          "state": {
            "_model_module": "@jupyter-widgets/base",
            "_model_module_version": "1.2.0",
            "_model_name": "LayoutModel",
            "_view_count": null,
            "_view_module": "@jupyter-widgets/base",
            "_view_module_version": "1.2.0",
            "_view_name": "LayoutView",
            "align_content": null,
            "align_items": null,
            "align_self": null,
            "border": null,
            "bottom": null,
            "display": null,
            "flex": null,
            "flex_flow": null,
            "grid_area": null,
            "grid_auto_columns": null,
            "grid_auto_flow": null,
            "grid_auto_rows": null,
            "grid_column": null,
            "grid_gap": null,
            "grid_row": null,
            "grid_template_areas": null,
            "grid_template_columns": null,
            "grid_template_rows": null,
            "height": null,
            "justify_content": null,
            "justify_items": null,
            "left": null,
            "margin": null,
            "max_height": null,
            "max_width": null,
            "min_height": null,
            "min_width": null,
            "object_fit": null,
            "object_position": null,
            "order": null,
            "overflow": null,
            "overflow_x": null,
            "overflow_y": null,
            "padding": null,
            "right": null,
            "top": null,
            "visibility": null,
            "width": null
          }
        },
        "0e19c716680540fa827e1a6a93e42cee": {
          "model_module": "@jupyter-widgets/controls",
          "model_name": "ProgressStyleModel",
          "model_module_version": "1.5.0",
          "state": {
            "_model_module": "@jupyter-widgets/controls",
            "_model_module_version": "1.5.0",
            "_model_name": "ProgressStyleModel",
            "_view_count": null,
            "_view_module": "@jupyter-widgets/base",
            "_view_module_version": "1.2.0",
            "_view_name": "StyleView",
            "bar_color": null,
            "description_width": ""
          }
        },
        "fbe1353d06f140c1a2cd0e65350680ae": {
          "model_module": "@jupyter-widgets/base",
          "model_name": "LayoutModel",
          "model_module_version": "1.2.0",
          "state": {
            "_model_module": "@jupyter-widgets/base",
            "_model_module_version": "1.2.0",
            "_model_name": "LayoutModel",
            "_view_count": null,
            "_view_module": "@jupyter-widgets/base",
            "_view_module_version": "1.2.0",
            "_view_name": "LayoutView",
            "align_content": null,
            "align_items": null,
            "align_self": null,
            "border": null,
            "bottom": null,
            "display": null,
            "flex": null,
            "flex_flow": null,
            "grid_area": null,
            "grid_auto_columns": null,
            "grid_auto_flow": null,
            "grid_auto_rows": null,
            "grid_column": null,
            "grid_gap": null,
            "grid_row": null,
            "grid_template_areas": null,
            "grid_template_columns": null,
            "grid_template_rows": null,
            "height": null,
            "justify_content": null,
            "justify_items": null,
            "left": null,
            "margin": null,
            "max_height": null,
            "max_width": null,
            "min_height": null,
            "min_width": null,
            "object_fit": null,
            "object_position": null,
            "order": null,
            "overflow": null,
            "overflow_x": null,
            "overflow_y": null,
            "padding": null,
            "right": null,
            "top": null,
            "visibility": null,
            "width": null
          }
        },
        "9f4bb21577124d489d8d81dfaa811466": {
          "model_module": "@jupyter-widgets/controls",
          "model_name": "DescriptionStyleModel",
          "model_module_version": "1.5.0",
          "state": {
            "_model_module": "@jupyter-widgets/controls",
            "_model_module_version": "1.5.0",
            "_model_name": "DescriptionStyleModel",
            "_view_count": null,
            "_view_module": "@jupyter-widgets/base",
            "_view_module_version": "1.2.0",
            "_view_name": "StyleView",
            "description_width": ""
          }
        },
        "eb24ce7c08334ce4950263c10f2bce2b": {
          "model_module": "@jupyter-widgets/controls",
          "model_name": "HBoxModel",
          "model_module_version": "1.5.0",
          "state": {
            "_dom_classes": [],
            "_model_module": "@jupyter-widgets/controls",
            "_model_module_version": "1.5.0",
            "_model_name": "HBoxModel",
            "_view_count": null,
            "_view_module": "@jupyter-widgets/controls",
            "_view_module_version": "1.5.0",
            "_view_name": "HBoxView",
            "box_style": "",
            "children": [
              "IPY_MODEL_24ab4e0e0de845ff907e63a7cc2bc83f",
              "IPY_MODEL_2c4b47e082204bbe94cd0f7a540e4a02",
              "IPY_MODEL_0868968481004ef2891fb9011861178e"
            ],
            "layout": "IPY_MODEL_297f3249e60e4102bf201b27df7cd0c7"
          }
        },
        "24ab4e0e0de845ff907e63a7cc2bc83f": {
          "model_module": "@jupyter-widgets/controls",
          "model_name": "HTMLModel",
          "model_module_version": "1.5.0",
          "state": {
            "_dom_classes": [],
            "_model_module": "@jupyter-widgets/controls",
            "_model_module_version": "1.5.0",
            "_model_name": "HTMLModel",
            "_view_count": null,
            "_view_module": "@jupyter-widgets/controls",
            "_view_module_version": "1.5.0",
            "_view_name": "HTMLView",
            "description": "",
            "description_tooltip": null,
            "layout": "IPY_MODEL_91cee46189404265bd1969e739e23c3d",
            "placeholder": "​",
            "style": "IPY_MODEL_9c0e78423d5b4a58a2e44f51c06eb5eb",
            "value": "Downloading: 100%"
          }
        },
        "2c4b47e082204bbe94cd0f7a540e4a02": {
          "model_module": "@jupyter-widgets/controls",
          "model_name": "FloatProgressModel",
          "model_module_version": "1.5.0",
          "state": {
            "_dom_classes": [],
            "_model_module": "@jupyter-widgets/controls",
            "_model_module_version": "1.5.0",
            "_model_name": "FloatProgressModel",
            "_view_count": null,
            "_view_module": "@jupyter-widgets/controls",
            "_view_module_version": "1.5.0",
            "_view_name": "ProgressView",
            "bar_style": "success",
            "description": "",
            "description_tooltip": null,
            "layout": "IPY_MODEL_5b54e6f7c77f4bd0aefa1f8c522ce371",
            "max": 28,
            "min": 0,
            "orientation": "horizontal",
            "style": "IPY_MODEL_bdabe1cd2d664097a24dccfd09fe35aa",
            "value": 28
          }
        },
        "0868968481004ef2891fb9011861178e": {
          "model_module": "@jupyter-widgets/controls",
          "model_name": "HTMLModel",
          "model_module_version": "1.5.0",
          "state": {
            "_dom_classes": [],
            "_model_module": "@jupyter-widgets/controls",
            "_model_module_version": "1.5.0",
            "_model_name": "HTMLModel",
            "_view_count": null,
            "_view_module": "@jupyter-widgets/controls",
            "_view_module_version": "1.5.0",
            "_view_name": "HTMLView",
            "description": "",
            "description_tooltip": null,
            "layout": "IPY_MODEL_e10b3d537eeb4a98bccc01dd107f529e",
            "placeholder": "​",
            "style": "IPY_MODEL_31a8add2104841b5a4122217f7c57ab5",
            "value": " 28.0/28.0 [00:00&lt;00:00, 1.13kB/s]"
          }
        },
        "297f3249e60e4102bf201b27df7cd0c7": {
          "model_module": "@jupyter-widgets/base",
          "model_name": "LayoutModel",
          "model_module_version": "1.2.0",
          "state": {
            "_model_module": "@jupyter-widgets/base",
            "_model_module_version": "1.2.0",
            "_model_name": "LayoutModel",
            "_view_count": null,
            "_view_module": "@jupyter-widgets/base",
            "_view_module_version": "1.2.0",
            "_view_name": "LayoutView",
            "align_content": null,
            "align_items": null,
            "align_self": null,
            "border": null,
            "bottom": null,
            "display": null,
            "flex": null,
            "flex_flow": null,
            "grid_area": null,
            "grid_auto_columns": null,
            "grid_auto_flow": null,
            "grid_auto_rows": null,
            "grid_column": null,
            "grid_gap": null,
            "grid_row": null,
            "grid_template_areas": null,
            "grid_template_columns": null,
            "grid_template_rows": null,
            "height": null,
            "justify_content": null,
            "justify_items": null,
            "left": null,
            "margin": null,
            "max_height": null,
            "max_width": null,
            "min_height": null,
            "min_width": null,
            "object_fit": null,
            "object_position": null,
            "order": null,
            "overflow": null,
            "overflow_x": null,
            "overflow_y": null,
            "padding": null,
            "right": null,
            "top": null,
            "visibility": null,
            "width": null
          }
        },
        "91cee46189404265bd1969e739e23c3d": {
          "model_module": "@jupyter-widgets/base",
          "model_name": "LayoutModel",
          "model_module_version": "1.2.0",
          "state": {
            "_model_module": "@jupyter-widgets/base",
            "_model_module_version": "1.2.0",
            "_model_name": "LayoutModel",
            "_view_count": null,
            "_view_module": "@jupyter-widgets/base",
            "_view_module_version": "1.2.0",
            "_view_name": "LayoutView",
            "align_content": null,
            "align_items": null,
            "align_self": null,
            "border": null,
            "bottom": null,
            "display": null,
            "flex": null,
            "flex_flow": null,
            "grid_area": null,
            "grid_auto_columns": null,
            "grid_auto_flow": null,
            "grid_auto_rows": null,
            "grid_column": null,
            "grid_gap": null,
            "grid_row": null,
            "grid_template_areas": null,
            "grid_template_columns": null,
            "grid_template_rows": null,
            "height": null,
            "justify_content": null,
            "justify_items": null,
            "left": null,
            "margin": null,
            "max_height": null,
            "max_width": null,
            "min_height": null,
            "min_width": null,
            "object_fit": null,
            "object_position": null,
            "order": null,
            "overflow": null,
            "overflow_x": null,
            "overflow_y": null,
            "padding": null,
            "right": null,
            "top": null,
            "visibility": null,
            "width": null
          }
        },
        "9c0e78423d5b4a58a2e44f51c06eb5eb": {
          "model_module": "@jupyter-widgets/controls",
          "model_name": "DescriptionStyleModel",
          "model_module_version": "1.5.0",
          "state": {
            "_model_module": "@jupyter-widgets/controls",
            "_model_module_version": "1.5.0",
            "_model_name": "DescriptionStyleModel",
            "_view_count": null,
            "_view_module": "@jupyter-widgets/base",
            "_view_module_version": "1.2.0",
            "_view_name": "StyleView",
            "description_width": ""
          }
        },
        "5b54e6f7c77f4bd0aefa1f8c522ce371": {
          "model_module": "@jupyter-widgets/base",
          "model_name": "LayoutModel",
          "model_module_version": "1.2.0",
          "state": {
            "_model_module": "@jupyter-widgets/base",
            "_model_module_version": "1.2.0",
            "_model_name": "LayoutModel",
            "_view_count": null,
            "_view_module": "@jupyter-widgets/base",
            "_view_module_version": "1.2.0",
            "_view_name": "LayoutView",
            "align_content": null,
            "align_items": null,
            "align_self": null,
            "border": null,
            "bottom": null,
            "display": null,
            "flex": null,
            "flex_flow": null,
            "grid_area": null,
            "grid_auto_columns": null,
            "grid_auto_flow": null,
            "grid_auto_rows": null,
            "grid_column": null,
            "grid_gap": null,
            "grid_row": null,
            "grid_template_areas": null,
            "grid_template_columns": null,
            "grid_template_rows": null,
            "height": null,
            "justify_content": null,
            "justify_items": null,
            "left": null,
            "margin": null,
            "max_height": null,
            "max_width": null,
            "min_height": null,
            "min_width": null,
            "object_fit": null,
            "object_position": null,
            "order": null,
            "overflow": null,
            "overflow_x": null,
            "overflow_y": null,
            "padding": null,
            "right": null,
            "top": null,
            "visibility": null,
            "width": null
          }
        },
        "bdabe1cd2d664097a24dccfd09fe35aa": {
          "model_module": "@jupyter-widgets/controls",
          "model_name": "ProgressStyleModel",
          "model_module_version": "1.5.0",
          "state": {
            "_model_module": "@jupyter-widgets/controls",
            "_model_module_version": "1.5.0",
            "_model_name": "ProgressStyleModel",
            "_view_count": null,
            "_view_module": "@jupyter-widgets/base",
            "_view_module_version": "1.2.0",
            "_view_name": "StyleView",
            "bar_color": null,
            "description_width": ""
          }
        },
        "e10b3d537eeb4a98bccc01dd107f529e": {
          "model_module": "@jupyter-widgets/base",
          "model_name": "LayoutModel",
          "model_module_version": "1.2.0",
          "state": {
            "_model_module": "@jupyter-widgets/base",
            "_model_module_version": "1.2.0",
            "_model_name": "LayoutModel",
            "_view_count": null,
            "_view_module": "@jupyter-widgets/base",
            "_view_module_version": "1.2.0",
            "_view_name": "LayoutView",
            "align_content": null,
            "align_items": null,
            "align_self": null,
            "border": null,
            "bottom": null,
            "display": null,
            "flex": null,
            "flex_flow": null,
            "grid_area": null,
            "grid_auto_columns": null,
            "grid_auto_flow": null,
            "grid_auto_rows": null,
            "grid_column": null,
            "grid_gap": null,
            "grid_row": null,
            "grid_template_areas": null,
            "grid_template_columns": null,
            "grid_template_rows": null,
            "height": null,
            "justify_content": null,
            "justify_items": null,
            "left": null,
            "margin": null,
            "max_height": null,
            "max_width": null,
            "min_height": null,
            "min_width": null,
            "object_fit": null,
            "object_position": null,
            "order": null,
            "overflow": null,
            "overflow_x": null,
            "overflow_y": null,
            "padding": null,
            "right": null,
            "top": null,
            "visibility": null,
            "width": null
          }
        },
        "31a8add2104841b5a4122217f7c57ab5": {
          "model_module": "@jupyter-widgets/controls",
          "model_name": "DescriptionStyleModel",
          "model_module_version": "1.5.0",
          "state": {
            "_model_module": "@jupyter-widgets/controls",
            "_model_module_version": "1.5.0",
            "_model_name": "DescriptionStyleModel",
            "_view_count": null,
            "_view_module": "@jupyter-widgets/base",
            "_view_module_version": "1.2.0",
            "_view_name": "StyleView",
            "description_width": ""
          }
        },
        "6f6cf49f79fd4d0484abcccfd59e3d1a": {
          "model_module": "@jupyter-widgets/controls",
          "model_name": "HBoxModel",
          "model_module_version": "1.5.0",
          "state": {
            "_dom_classes": [],
            "_model_module": "@jupyter-widgets/controls",
            "_model_module_version": "1.5.0",
            "_model_name": "HBoxModel",
            "_view_count": null,
            "_view_module": "@jupyter-widgets/controls",
            "_view_module_version": "1.5.0",
            "_view_name": "HBoxView",
            "box_style": "",
            "children": [
              "IPY_MODEL_9f79d9b7deb040b0817a0a4f49c128a3",
              "IPY_MODEL_969fa6ceed244b87a689a0e15dc054cb",
              "IPY_MODEL_ec48c9518f3041288c59c302b9fb9cfe"
            ],
            "layout": "IPY_MODEL_a8650720e12e40c1be1c6d93fec98082"
          }
        },
        "9f79d9b7deb040b0817a0a4f49c128a3": {
          "model_module": "@jupyter-widgets/controls",
          "model_name": "HTMLModel",
          "model_module_version": "1.5.0",
          "state": {
            "_dom_classes": [],
            "_model_module": "@jupyter-widgets/controls",
            "_model_module_version": "1.5.0",
            "_model_name": "HTMLModel",
            "_view_count": null,
            "_view_module": "@jupyter-widgets/controls",
            "_view_module_version": "1.5.0",
            "_view_name": "HTMLView",
            "description": "",
            "description_tooltip": null,
            "layout": "IPY_MODEL_db8f44583f714f1fa339e81bdf5dfcae",
            "placeholder": "​",
            "style": "IPY_MODEL_c1a6f9bbae4c47c38c56b4f3247f105a",
            "value": "Downloading: 100%"
          }
        },
        "969fa6ceed244b87a689a0e15dc054cb": {
          "model_module": "@jupyter-widgets/controls",
          "model_name": "FloatProgressModel",
          "model_module_version": "1.5.0",
          "state": {
            "_dom_classes": [],
            "_model_module": "@jupyter-widgets/controls",
            "_model_module_version": "1.5.0",
            "_model_name": "FloatProgressModel",
            "_view_count": null,
            "_view_module": "@jupyter-widgets/controls",
            "_view_module_version": "1.5.0",
            "_view_name": "ProgressView",
            "bar_style": "success",
            "description": "",
            "description_tooltip": null,
            "layout": "IPY_MODEL_52448102be044689bd6ee0db7f659ac7",
            "max": 570,
            "min": 0,
            "orientation": "horizontal",
            "style": "IPY_MODEL_a791e6c011d54b808da5908deae23ef3",
            "value": 570
          }
        },
        "ec48c9518f3041288c59c302b9fb9cfe": {
          "model_module": "@jupyter-widgets/controls",
          "model_name": "HTMLModel",
          "model_module_version": "1.5.0",
          "state": {
            "_dom_classes": [],
            "_model_module": "@jupyter-widgets/controls",
            "_model_module_version": "1.5.0",
            "_model_name": "HTMLModel",
            "_view_count": null,
            "_view_module": "@jupyter-widgets/controls",
            "_view_module_version": "1.5.0",
            "_view_name": "HTMLView",
            "description": "",
            "description_tooltip": null,
            "layout": "IPY_MODEL_98c9b3b4a705424cbd5f740bd9552d96",
            "placeholder": "​",
            "style": "IPY_MODEL_f63d8e322be54c5684d9dd7acd746b05",
            "value": " 570/570 [00:00&lt;00:00, 24.2kB/s]"
          }
        },
        "a8650720e12e40c1be1c6d93fec98082": {
          "model_module": "@jupyter-widgets/base",
          "model_name": "LayoutModel",
          "model_module_version": "1.2.0",
          "state": {
            "_model_module": "@jupyter-widgets/base",
            "_model_module_version": "1.2.0",
            "_model_name": "LayoutModel",
            "_view_count": null,
            "_view_module": "@jupyter-widgets/base",
            "_view_module_version": "1.2.0",
            "_view_name": "LayoutView",
            "align_content": null,
            "align_items": null,
            "align_self": null,
            "border": null,
            "bottom": null,
            "display": null,
            "flex": null,
            "flex_flow": null,
            "grid_area": null,
            "grid_auto_columns": null,
            "grid_auto_flow": null,
            "grid_auto_rows": null,
            "grid_column": null,
            "grid_gap": null,
            "grid_row": null,
            "grid_template_areas": null,
            "grid_template_columns": null,
            "grid_template_rows": null,
            "height": null,
            "justify_content": null,
            "justify_items": null,
            "left": null,
            "margin": null,
            "max_height": null,
            "max_width": null,
            "min_height": null,
            "min_width": null,
            "object_fit": null,
            "object_position": null,
            "order": null,
            "overflow": null,
            "overflow_x": null,
            "overflow_y": null,
            "padding": null,
            "right": null,
            "top": null,
            "visibility": null,
            "width": null
          }
        },
        "db8f44583f714f1fa339e81bdf5dfcae": {
          "model_module": "@jupyter-widgets/base",
          "model_name": "LayoutModel",
          "model_module_version": "1.2.0",
          "state": {
            "_model_module": "@jupyter-widgets/base",
            "_model_module_version": "1.2.0",
            "_model_name": "LayoutModel",
            "_view_count": null,
            "_view_module": "@jupyter-widgets/base",
            "_view_module_version": "1.2.0",
            "_view_name": "LayoutView",
            "align_content": null,
            "align_items": null,
            "align_self": null,
            "border": null,
            "bottom": null,
            "display": null,
            "flex": null,
            "flex_flow": null,
            "grid_area": null,
            "grid_auto_columns": null,
            "grid_auto_flow": null,
            "grid_auto_rows": null,
            "grid_column": null,
            "grid_gap": null,
            "grid_row": null,
            "grid_template_areas": null,
            "grid_template_columns": null,
            "grid_template_rows": null,
            "height": null,
            "justify_content": null,
            "justify_items": null,
            "left": null,
            "margin": null,
            "max_height": null,
            "max_width": null,
            "min_height": null,
            "min_width": null,
            "object_fit": null,
            "object_position": null,
            "order": null,
            "overflow": null,
            "overflow_x": null,
            "overflow_y": null,
            "padding": null,
            "right": null,
            "top": null,
            "visibility": null,
            "width": null
          }
        },
        "c1a6f9bbae4c47c38c56b4f3247f105a": {
          "model_module": "@jupyter-widgets/controls",
          "model_name": "DescriptionStyleModel",
          "model_module_version": "1.5.0",
          "state": {
            "_model_module": "@jupyter-widgets/controls",
            "_model_module_version": "1.5.0",
            "_model_name": "DescriptionStyleModel",
            "_view_count": null,
            "_view_module": "@jupyter-widgets/base",
            "_view_module_version": "1.2.0",
            "_view_name": "StyleView",
            "description_width": ""
          }
        },
        "52448102be044689bd6ee0db7f659ac7": {
          "model_module": "@jupyter-widgets/base",
          "model_name": "LayoutModel",
          "model_module_version": "1.2.0",
          "state": {
            "_model_module": "@jupyter-widgets/base",
            "_model_module_version": "1.2.0",
            "_model_name": "LayoutModel",
            "_view_count": null,
            "_view_module": "@jupyter-widgets/base",
            "_view_module_version": "1.2.0",
            "_view_name": "LayoutView",
            "align_content": null,
            "align_items": null,
            "align_self": null,
            "border": null,
            "bottom": null,
            "display": null,
            "flex": null,
            "flex_flow": null,
            "grid_area": null,
            "grid_auto_columns": null,
            "grid_auto_flow": null,
            "grid_auto_rows": null,
            "grid_column": null,
            "grid_gap": null,
            "grid_row": null,
            "grid_template_areas": null,
            "grid_template_columns": null,
            "grid_template_rows": null,
            "height": null,
            "justify_content": null,
            "justify_items": null,
            "left": null,
            "margin": null,
            "max_height": null,
            "max_width": null,
            "min_height": null,
            "min_width": null,
            "object_fit": null,
            "object_position": null,
            "order": null,
            "overflow": null,
            "overflow_x": null,
            "overflow_y": null,
            "padding": null,
            "right": null,
            "top": null,
            "visibility": null,
            "width": null
          }
        },
        "a791e6c011d54b808da5908deae23ef3": {
          "model_module": "@jupyter-widgets/controls",
          "model_name": "ProgressStyleModel",
          "model_module_version": "1.5.0",
          "state": {
            "_model_module": "@jupyter-widgets/controls",
            "_model_module_version": "1.5.0",
            "_model_name": "ProgressStyleModel",
            "_view_count": null,
            "_view_module": "@jupyter-widgets/base",
            "_view_module_version": "1.2.0",
            "_view_name": "StyleView",
            "bar_color": null,
            "description_width": ""
          }
        },
        "98c9b3b4a705424cbd5f740bd9552d96": {
          "model_module": "@jupyter-widgets/base",
          "model_name": "LayoutModel",
          "model_module_version": "1.2.0",
          "state": {
            "_model_module": "@jupyter-widgets/base",
            "_model_module_version": "1.2.0",
            "_model_name": "LayoutModel",
            "_view_count": null,
            "_view_module": "@jupyter-widgets/base",
            "_view_module_version": "1.2.0",
            "_view_name": "LayoutView",
            "align_content": null,
            "align_items": null,
            "align_self": null,
            "border": null,
            "bottom": null,
            "display": null,
            "flex": null,
            "flex_flow": null,
            "grid_area": null,
            "grid_auto_columns": null,
            "grid_auto_flow": null,
            "grid_auto_rows": null,
            "grid_column": null,
            "grid_gap": null,
            "grid_row": null,
            "grid_template_areas": null,
            "grid_template_columns": null,
            "grid_template_rows": null,
            "height": null,
            "justify_content": null,
            "justify_items": null,
            "left": null,
            "margin": null,
            "max_height": null,
            "max_width": null,
            "min_height": null,
            "min_width": null,
            "object_fit": null,
            "object_position": null,
            "order": null,
            "overflow": null,
            "overflow_x": null,
            "overflow_y": null,
            "padding": null,
            "right": null,
            "top": null,
            "visibility": null,
            "width": null
          }
        },
        "f63d8e322be54c5684d9dd7acd746b05": {
          "model_module": "@jupyter-widgets/controls",
          "model_name": "DescriptionStyleModel",
          "model_module_version": "1.5.0",
          "state": {
            "_model_module": "@jupyter-widgets/controls",
            "_model_module_version": "1.5.0",
            "_model_name": "DescriptionStyleModel",
            "_view_count": null,
            "_view_module": "@jupyter-widgets/base",
            "_view_module_version": "1.2.0",
            "_view_name": "StyleView",
            "description_width": ""
          }
        },
        "2bedcd76000d4fdf9846305c4fc45391": {
          "model_module": "@jupyter-widgets/controls",
          "model_name": "HBoxModel",
          "model_module_version": "1.5.0",
          "state": {
            "_dom_classes": [],
            "_model_module": "@jupyter-widgets/controls",
            "_model_module_version": "1.5.0",
            "_model_name": "HBoxModel",
            "_view_count": null,
            "_view_module": "@jupyter-widgets/controls",
            "_view_module_version": "1.5.0",
            "_view_name": "HBoxView",
            "box_style": "",
            "children": [
              "IPY_MODEL_80134fbe620640e8ac3c66caddd41548",
              "IPY_MODEL_0b915e141e75424eaa6dbeeff9a79fc0",
              "IPY_MODEL_59dd7a3477934200a0ffcd3bbefdd3d4"
            ],
            "layout": "IPY_MODEL_5cdc78ebf457460d85557e3ebdb05e8a"
          }
        },
        "80134fbe620640e8ac3c66caddd41548": {
          "model_module": "@jupyter-widgets/controls",
          "model_name": "HTMLModel",
          "model_module_version": "1.5.0",
          "state": {
            "_dom_classes": [],
            "_model_module": "@jupyter-widgets/controls",
            "_model_module_version": "1.5.0",
            "_model_name": "HTMLModel",
            "_view_count": null,
            "_view_module": "@jupyter-widgets/controls",
            "_view_module_version": "1.5.0",
            "_view_name": "HTMLView",
            "description": "",
            "description_tooltip": null,
            "layout": "IPY_MODEL_89f24e8fde3d4d11abc4b8b8916a1830",
            "placeholder": "​",
            "style": "IPY_MODEL_aa2e089c80d14bd8a44e78331202b967",
            "value": "Downloading: 100%"
          }
        },
        "0b915e141e75424eaa6dbeeff9a79fc0": {
          "model_module": "@jupyter-widgets/controls",
          "model_name": "FloatProgressModel",
          "model_module_version": "1.5.0",
          "state": {
            "_dom_classes": [],
            "_model_module": "@jupyter-widgets/controls",
            "_model_module_version": "1.5.0",
            "_model_name": "FloatProgressModel",
            "_view_count": null,
            "_view_module": "@jupyter-widgets/controls",
            "_view_module_version": "1.5.0",
            "_view_name": "ProgressView",
            "bar_style": "success",
            "description": "",
            "description_tooltip": null,
            "layout": "IPY_MODEL_e20f791de7ca4daeb61af5148165d6d9",
            "max": 440473133,
            "min": 0,
            "orientation": "horizontal",
            "style": "IPY_MODEL_8bed8ffc4ce24342b975d248d9d6c1a1",
            "value": 440473133
          }
        },
        "59dd7a3477934200a0ffcd3bbefdd3d4": {
          "model_module": "@jupyter-widgets/controls",
          "model_name": "HTMLModel",
          "model_module_version": "1.5.0",
          "state": {
            "_dom_classes": [],
            "_model_module": "@jupyter-widgets/controls",
            "_model_module_version": "1.5.0",
            "_model_name": "HTMLModel",
            "_view_count": null,
            "_view_module": "@jupyter-widgets/controls",
            "_view_module_version": "1.5.0",
            "_view_name": "HTMLView",
            "description": "",
            "description_tooltip": null,
            "layout": "IPY_MODEL_eac58a4f763a44068cf8b6c172e08828",
            "placeholder": "​",
            "style": "IPY_MODEL_188937e0d8dd42cba5b81cea1de52bc8",
            "value": " 440M/440M [00:06&lt;00:00, 65.4MB/s]"
          }
        },
        "5cdc78ebf457460d85557e3ebdb05e8a": {
          "model_module": "@jupyter-widgets/base",
          "model_name": "LayoutModel",
          "model_module_version": "1.2.0",
          "state": {
            "_model_module": "@jupyter-widgets/base",
            "_model_module_version": "1.2.0",
            "_model_name": "LayoutModel",
            "_view_count": null,
            "_view_module": "@jupyter-widgets/base",
            "_view_module_version": "1.2.0",
            "_view_name": "LayoutView",
            "align_content": null,
            "align_items": null,
            "align_self": null,
            "border": null,
            "bottom": null,
            "display": null,
            "flex": null,
            "flex_flow": null,
            "grid_area": null,
            "grid_auto_columns": null,
            "grid_auto_flow": null,
            "grid_auto_rows": null,
            "grid_column": null,
            "grid_gap": null,
            "grid_row": null,
            "grid_template_areas": null,
            "grid_template_columns": null,
            "grid_template_rows": null,
            "height": null,
            "justify_content": null,
            "justify_items": null,
            "left": null,
            "margin": null,
            "max_height": null,
            "max_width": null,
            "min_height": null,
            "min_width": null,
            "object_fit": null,
            "object_position": null,
            "order": null,
            "overflow": null,
            "overflow_x": null,
            "overflow_y": null,
            "padding": null,
            "right": null,
            "top": null,
            "visibility": null,
            "width": null
          }
        },
        "89f24e8fde3d4d11abc4b8b8916a1830": {
          "model_module": "@jupyter-widgets/base",
          "model_name": "LayoutModel",
          "model_module_version": "1.2.0",
          "state": {
            "_model_module": "@jupyter-widgets/base",
            "_model_module_version": "1.2.0",
            "_model_name": "LayoutModel",
            "_view_count": null,
            "_view_module": "@jupyter-widgets/base",
            "_view_module_version": "1.2.0",
            "_view_name": "LayoutView",
            "align_content": null,
            "align_items": null,
            "align_self": null,
            "border": null,
            "bottom": null,
            "display": null,
            "flex": null,
            "flex_flow": null,
            "grid_area": null,
            "grid_auto_columns": null,
            "grid_auto_flow": null,
            "grid_auto_rows": null,
            "grid_column": null,
            "grid_gap": null,
            "grid_row": null,
            "grid_template_areas": null,
            "grid_template_columns": null,
            "grid_template_rows": null,
            "height": null,
            "justify_content": null,
            "justify_items": null,
            "left": null,
            "margin": null,
            "max_height": null,
            "max_width": null,
            "min_height": null,
            "min_width": null,
            "object_fit": null,
            "object_position": null,
            "order": null,
            "overflow": null,
            "overflow_x": null,
            "overflow_y": null,
            "padding": null,
            "right": null,
            "top": null,
            "visibility": null,
            "width": null
          }
        },
        "aa2e089c80d14bd8a44e78331202b967": {
          "model_module": "@jupyter-widgets/controls",
          "model_name": "DescriptionStyleModel",
          "model_module_version": "1.5.0",
          "state": {
            "_model_module": "@jupyter-widgets/controls",
            "_model_module_version": "1.5.0",
            "_model_name": "DescriptionStyleModel",
            "_view_count": null,
            "_view_module": "@jupyter-widgets/base",
            "_view_module_version": "1.2.0",
            "_view_name": "StyleView",
            "description_width": ""
          }
        },
        "e20f791de7ca4daeb61af5148165d6d9": {
          "model_module": "@jupyter-widgets/base",
          "model_name": "LayoutModel",
          "model_module_version": "1.2.0",
          "state": {
            "_model_module": "@jupyter-widgets/base",
            "_model_module_version": "1.2.0",
            "_model_name": "LayoutModel",
            "_view_count": null,
            "_view_module": "@jupyter-widgets/base",
            "_view_module_version": "1.2.0",
            "_view_name": "LayoutView",
            "align_content": null,
            "align_items": null,
            "align_self": null,
            "border": null,
            "bottom": null,
            "display": null,
            "flex": null,
            "flex_flow": null,
            "grid_area": null,
            "grid_auto_columns": null,
            "grid_auto_flow": null,
            "grid_auto_rows": null,
            "grid_column": null,
            "grid_gap": null,
            "grid_row": null,
            "grid_template_areas": null,
            "grid_template_columns": null,
            "grid_template_rows": null,
            "height": null,
            "justify_content": null,
            "justify_items": null,
            "left": null,
            "margin": null,
            "max_height": null,
            "max_width": null,
            "min_height": null,
            "min_width": null,
            "object_fit": null,
            "object_position": null,
            "order": null,
            "overflow": null,
            "overflow_x": null,
            "overflow_y": null,
            "padding": null,
            "right": null,
            "top": null,
            "visibility": null,
            "width": null
          }
        },
        "8bed8ffc4ce24342b975d248d9d6c1a1": {
          "model_module": "@jupyter-widgets/controls",
          "model_name": "ProgressStyleModel",
          "model_module_version": "1.5.0",
          "state": {
            "_model_module": "@jupyter-widgets/controls",
            "_model_module_version": "1.5.0",
            "_model_name": "ProgressStyleModel",
            "_view_count": null,
            "_view_module": "@jupyter-widgets/base",
            "_view_module_version": "1.2.0",
            "_view_name": "StyleView",
            "bar_color": null,
            "description_width": ""
          }
        },
        "eac58a4f763a44068cf8b6c172e08828": {
          "model_module": "@jupyter-widgets/base",
          "model_name": "LayoutModel",
          "model_module_version": "1.2.0",
          "state": {
            "_model_module": "@jupyter-widgets/base",
            "_model_module_version": "1.2.0",
            "_model_name": "LayoutModel",
            "_view_count": null,
            "_view_module": "@jupyter-widgets/base",
            "_view_module_version": "1.2.0",
            "_view_name": "LayoutView",
            "align_content": null,
            "align_items": null,
            "align_self": null,
            "border": null,
            "bottom": null,
            "display": null,
            "flex": null,
            "flex_flow": null,
            "grid_area": null,
            "grid_auto_columns": null,
            "grid_auto_flow": null,
            "grid_auto_rows": null,
            "grid_column": null,
            "grid_gap": null,
            "grid_row": null,
            "grid_template_areas": null,
            "grid_template_columns": null,
            "grid_template_rows": null,
            "height": null,
            "justify_content": null,
            "justify_items": null,
            "left": null,
            "margin": null,
            "max_height": null,
            "max_width": null,
            "min_height": null,
            "min_width": null,
            "object_fit": null,
            "object_position": null,
            "order": null,
            "overflow": null,
            "overflow_x": null,
            "overflow_y": null,
            "padding": null,
            "right": null,
            "top": null,
            "visibility": null,
            "width": null
          }
        },
        "188937e0d8dd42cba5b81cea1de52bc8": {
          "model_module": "@jupyter-widgets/controls",
          "model_name": "DescriptionStyleModel",
          "model_module_version": "1.5.0",
          "state": {
            "_model_module": "@jupyter-widgets/controls",
            "_model_module_version": "1.5.0",
            "_model_name": "DescriptionStyleModel",
            "_view_count": null,
            "_view_module": "@jupyter-widgets/base",
            "_view_module_version": "1.2.0",
            "_view_name": "StyleView",
            "description_width": ""
          }
        }
      }
    }
  },
  "cells": [
    {
      "cell_type": "markdown",
      "source": [
        "## Ajuste fino do BERT para classificação de texto\n",
        "***"
      ],
      "metadata": {
        "id": "hb6VAF0k55UZ"
      }
    },
    {
      "cell_type": "markdown",
      "source": [
        "Classificação de SMS. Identificacao de SPAM\n",
        "***"
      ],
      "metadata": {
        "id": "XyTcLPwdbvos"
      }
    },
    {
      "cell_type": "code",
      "source": [
        "!pip install transformers"
      ],
      "metadata": {
        "colab": {
          "base_uri": "https://localhost:8080/"
        },
        "id": "2MKWRV7Q58-2",
        "outputId": "0a9d2929-b237-4520-eef3-11a7608746e8"
      },
      "execution_count": null,
      "outputs": [
        {
          "output_type": "stream",
          "name": "stdout",
          "text": [
            "Looking in indexes: https://pypi.org/simple, https://us-python.pkg.dev/colab-wheels/public/simple/\n",
            "Collecting transformers\n",
            "  Downloading transformers-4.23.1-py3-none-any.whl (5.3 MB)\n",
            "\u001b[K     |████████████████████████████████| 5.3 MB 3.9 MB/s \n",
            "\u001b[?25hRequirement already satisfied: numpy>=1.17 in /usr/local/lib/python3.7/dist-packages (from transformers) (1.21.6)\n",
            "Requirement already satisfied: regex!=2019.12.17 in /usr/local/lib/python3.7/dist-packages (from transformers) (2022.6.2)\n",
            "Collecting tokenizers!=0.11.3,<0.14,>=0.11.1\n",
            "  Downloading tokenizers-0.13.1-cp37-cp37m-manylinux_2_17_x86_64.manylinux2014_x86_64.whl (7.6 MB)\n",
            "\u001b[K     |████████████████████████████████| 7.6 MB 67.2 MB/s \n",
            "\u001b[?25hRequirement already satisfied: requests in /usr/local/lib/python3.7/dist-packages (from transformers) (2.23.0)\n",
            "Requirement already satisfied: filelock in /usr/local/lib/python3.7/dist-packages (from transformers) (3.8.0)\n",
            "Requirement already satisfied: pyyaml>=5.1 in /usr/local/lib/python3.7/dist-packages (from transformers) (6.0)\n",
            "Collecting huggingface-hub<1.0,>=0.10.0\n",
            "  Downloading huggingface_hub-0.10.1-py3-none-any.whl (163 kB)\n",
            "\u001b[K     |████████████████████████████████| 163 kB 78.0 MB/s \n",
            "\u001b[?25hRequirement already satisfied: importlib-metadata in /usr/local/lib/python3.7/dist-packages (from transformers) (4.13.0)\n",
            "Requirement already satisfied: packaging>=20.0 in /usr/local/lib/python3.7/dist-packages (from transformers) (21.3)\n",
            "Requirement already satisfied: tqdm>=4.27 in /usr/local/lib/python3.7/dist-packages (from transformers) (4.64.1)\n",
            "Requirement already satisfied: typing-extensions>=3.7.4.3 in /usr/local/lib/python3.7/dist-packages (from huggingface-hub<1.0,>=0.10.0->transformers) (4.1.1)\n",
            "Requirement already satisfied: pyparsing!=3.0.5,>=2.0.2 in /usr/local/lib/python3.7/dist-packages (from packaging>=20.0->transformers) (3.0.9)\n",
            "Requirement already satisfied: zipp>=0.5 in /usr/local/lib/python3.7/dist-packages (from importlib-metadata->transformers) (3.9.0)\n",
            "Requirement already satisfied: urllib3!=1.25.0,!=1.25.1,<1.26,>=1.21.1 in /usr/local/lib/python3.7/dist-packages (from requests->transformers) (1.24.3)\n",
            "Requirement already satisfied: idna<3,>=2.5 in /usr/local/lib/python3.7/dist-packages (from requests->transformers) (2.10)\n",
            "Requirement already satisfied: chardet<4,>=3.0.2 in /usr/local/lib/python3.7/dist-packages (from requests->transformers) (3.0.4)\n",
            "Requirement already satisfied: certifi>=2017.4.17 in /usr/local/lib/python3.7/dist-packages (from requests->transformers) (2022.9.24)\n",
            "Installing collected packages: tokenizers, huggingface-hub, transformers\n",
            "Successfully installed huggingface-hub-0.10.1 tokenizers-0.13.1 transformers-4.23.1\n"
          ]
        }
      ]
    },
    {
      "cell_type": "code",
      "source": [
        "#Importando as bibliotecas/dependências necessárias\n",
        "import torch\n",
        "from torch.utils.data import TensorDataset, DataLoader, RandomSampler, SequentialSampler\n",
        "from transformers import BertTokenizer, BertForSequenceClassification\n",
        "from sklearn.model_selection import train_test_split\n",
        "\n",
        "import pandas as pd\n",
        "import numpy as np\n",
        "\n",
        "from tabulate import tabulate\n",
        "from tqdm import trange\n",
        "import random"
      ],
      "metadata": {
        "id": "mz2EOYuC6hne"
      },
      "execution_count": null,
      "outputs": []
    },
    {
      "cell_type": "markdown",
      "source": [
        "* Baixando o dataset utilizado"
      ],
      "metadata": {
        "id": "k4Z885576_BN"
      }
    },
    {
      "cell_type": "code",
      "source": [
        "!wget 'https://archive.ics.uci.edu/ml/machine-learning-databases/00228/smsspamcollection.zip'"
      ],
      "metadata": {
        "id": "cPyPZy7i6z-3"
      },
      "execution_count": null,
      "outputs": []
    },
    {
      "cell_type": "code",
      "source": [
        "!unzip -o smsspamcollection.zip"
      ],
      "metadata": {
        "colab": {
          "base_uri": "https://localhost:8080/"
        },
        "id": "v9ZNTyix7D2D",
        "outputId": "a30c9729-81db-4a3f-8117-9a9e27265956"
      },
      "execution_count": null,
      "outputs": [
        {
          "output_type": "stream",
          "name": "stdout",
          "text": [
            "Archive:  smsspamcollection.zip\n",
            "  inflating: SMSSpamCollection       \n",
            "  inflating: readme                  \n"
          ]
        }
      ]
    },
    {
      "cell_type": "code",
      "source": [
        "!head -10 SMSSpamCollection"
      ],
      "metadata": {
        "colab": {
          "base_uri": "https://localhost:8080/"
        },
        "id": "oVL8K8QM7GhC",
        "outputId": "2fdb0dee-e691-4cf9-ee69-a8fb1e5dd9f6"
      },
      "execution_count": null,
      "outputs": [
        {
          "output_type": "stream",
          "name": "stdout",
          "text": [
            "ham\tGo until jurong point, crazy.. Available only in bugis n great world la e buffet... Cine there got amore wat...\n",
            "ham\tOk lar... Joking wif u oni...\n",
            "spam\tFree entry in 2 a wkly comp to win FA Cup final tkts 21st May 2005. Text FA to 87121 to receive entry question(std txt rate)T&C's apply 08452810075over18's\n",
            "ham\tU dun say so early hor... U c already then say...\n",
            "ham\tNah I don't think he goes to usf, he lives around here though\n",
            "spam\tFreeMsg Hey there darling it's been 3 week's now and no word back! I'd like some fun you up for it still? Tb ok! XxX std chgs to send, £1.50 to rcv\n",
            "ham\tEven my brother is not like to speak with me. They treat me like aids patent.\n",
            "ham\tAs per your request 'Melle Melle (Oru Minnaminunginte Nurungu Vettam)' has been set as your callertune for all Callers. Press *9 to copy your friends Callertune\n",
            "spam\tWINNER!! As a valued network customer you have been selected to receivea £900 prize reward! To claim call 09061701461. Claim code KL341. Valid 12 hours only.\n",
            "spam\tHad your mobile 11 months or more? U R entitled to Update to the latest colour mobiles with camera for Free! Call The Mobile Update Co FREE on 08002986030\n"
          ]
        }
      ]
    },
    {
      "cell_type": "markdown",
      "source": [
        "* Transformando conjunto de dados em dataframe\n",
        "***"
      ],
      "metadata": {
        "id": "uPnwYlzL7KYt"
      }
    },
    {
      "cell_type": "code",
      "source": [
        "file_path = '/content/SMSSpamCollection'\n",
        "df = pd.DataFrame({'label':int(), 'text':str()}, index = [])\n",
        "with open(file_path) as f:\n",
        "  for line in f.readlines():\n",
        "    split = line.split('\\t')\n",
        "    df = df.append({'label': 1 if split[0] == 'spam' else 0,\n",
        "                    'text': split[1]},\n",
        "                    ignore_index = True)\n",
        "df.head()"
      ],
      "metadata": {
        "colab": {
          "base_uri": "https://localhost:8080/",
          "height": 206
        },
        "id": "jY6dj-3N7abJ",
        "outputId": "d7ab8218-a8d8-48f3-96b2-420117806f98"
      },
      "execution_count": null,
      "outputs": [
        {
          "output_type": "execute_result",
          "data": {
            "text/plain": [
              "   label                                               text\n",
              "0      0  Go until jurong point, crazy.. Available only ...\n",
              "1      0                    Ok lar... Joking wif u oni...\\n\n",
              "2      1  Free entry in 2 a wkly comp to win FA Cup fina...\n",
              "3      0  U dun say so early hor... U c already then say...\n",
              "4      0  Nah I don't think he goes to usf, he lives aro..."
            ],
            "text/html": [
              "\n",
              "  <div id=\"df-b39ecca6-0395-4231-81ee-16150d645b1b\">\n",
              "    <div class=\"colab-df-container\">\n",
              "      <div>\n",
              "<style scoped>\n",
              "    .dataframe tbody tr th:only-of-type {\n",
              "        vertical-align: middle;\n",
              "    }\n",
              "\n",
              "    .dataframe tbody tr th {\n",
              "        vertical-align: top;\n",
              "    }\n",
              "\n",
              "    .dataframe thead th {\n",
              "        text-align: right;\n",
              "    }\n",
              "</style>\n",
              "<table border=\"1\" class=\"dataframe\">\n",
              "  <thead>\n",
              "    <tr style=\"text-align: right;\">\n",
              "      <th></th>\n",
              "      <th>label</th>\n",
              "      <th>text</th>\n",
              "    </tr>\n",
              "  </thead>\n",
              "  <tbody>\n",
              "    <tr>\n",
              "      <th>0</th>\n",
              "      <td>0</td>\n",
              "      <td>Go until jurong point, crazy.. Available only ...</td>\n",
              "    </tr>\n",
              "    <tr>\n",
              "      <th>1</th>\n",
              "      <td>0</td>\n",
              "      <td>Ok lar... Joking wif u oni...\\n</td>\n",
              "    </tr>\n",
              "    <tr>\n",
              "      <th>2</th>\n",
              "      <td>1</td>\n",
              "      <td>Free entry in 2 a wkly comp to win FA Cup fina...</td>\n",
              "    </tr>\n",
              "    <tr>\n",
              "      <th>3</th>\n",
              "      <td>0</td>\n",
              "      <td>U dun say so early hor... U c already then say...</td>\n",
              "    </tr>\n",
              "    <tr>\n",
              "      <th>4</th>\n",
              "      <td>0</td>\n",
              "      <td>Nah I don't think he goes to usf, he lives aro...</td>\n",
              "    </tr>\n",
              "  </tbody>\n",
              "</table>\n",
              "</div>\n",
              "      <button class=\"colab-df-convert\" onclick=\"convertToInteractive('df-b39ecca6-0395-4231-81ee-16150d645b1b')\"\n",
              "              title=\"Convert this dataframe to an interactive table.\"\n",
              "              style=\"display:none;\">\n",
              "        \n",
              "  <svg xmlns=\"http://www.w3.org/2000/svg\" height=\"24px\"viewBox=\"0 0 24 24\"\n",
              "       width=\"24px\">\n",
              "    <path d=\"M0 0h24v24H0V0z\" fill=\"none\"/>\n",
              "    <path d=\"M18.56 5.44l.94 2.06.94-2.06 2.06-.94-2.06-.94-.94-2.06-.94 2.06-2.06.94zm-11 1L8.5 8.5l.94-2.06 2.06-.94-2.06-.94L8.5 2.5l-.94 2.06-2.06.94zm10 10l.94 2.06.94-2.06 2.06-.94-2.06-.94-.94-2.06-.94 2.06-2.06.94z\"/><path d=\"M17.41 7.96l-1.37-1.37c-.4-.4-.92-.59-1.43-.59-.52 0-1.04.2-1.43.59L10.3 9.45l-7.72 7.72c-.78.78-.78 2.05 0 2.83L4 21.41c.39.39.9.59 1.41.59.51 0 1.02-.2 1.41-.59l7.78-7.78 2.81-2.81c.8-.78.8-2.07 0-2.86zM5.41 20L4 18.59l7.72-7.72 1.47 1.35L5.41 20z\"/>\n",
              "  </svg>\n",
              "      </button>\n",
              "      \n",
              "  <style>\n",
              "    .colab-df-container {\n",
              "      display:flex;\n",
              "      flex-wrap:wrap;\n",
              "      gap: 12px;\n",
              "    }\n",
              "\n",
              "    .colab-df-convert {\n",
              "      background-color: #E8F0FE;\n",
              "      border: none;\n",
              "      border-radius: 50%;\n",
              "      cursor: pointer;\n",
              "      display: none;\n",
              "      fill: #1967D2;\n",
              "      height: 32px;\n",
              "      padding: 0 0 0 0;\n",
              "      width: 32px;\n",
              "    }\n",
              "\n",
              "    .colab-df-convert:hover {\n",
              "      background-color: #E2EBFA;\n",
              "      box-shadow: 0px 1px 2px rgba(60, 64, 67, 0.3), 0px 1px 3px 1px rgba(60, 64, 67, 0.15);\n",
              "      fill: #174EA6;\n",
              "    }\n",
              "\n",
              "    [theme=dark] .colab-df-convert {\n",
              "      background-color: #3B4455;\n",
              "      fill: #D2E3FC;\n",
              "    }\n",
              "\n",
              "    [theme=dark] .colab-df-convert:hover {\n",
              "      background-color: #434B5C;\n",
              "      box-shadow: 0px 1px 3px 1px rgba(0, 0, 0, 0.15);\n",
              "      filter: drop-shadow(0px 1px 2px rgba(0, 0, 0, 0.3));\n",
              "      fill: #FFFFFF;\n",
              "    }\n",
              "  </style>\n",
              "\n",
              "      <script>\n",
              "        const buttonEl =\n",
              "          document.querySelector('#df-b39ecca6-0395-4231-81ee-16150d645b1b button.colab-df-convert');\n",
              "        buttonEl.style.display =\n",
              "          google.colab.kernel.accessAllowed ? 'block' : 'none';\n",
              "\n",
              "        async function convertToInteractive(key) {\n",
              "          const element = document.querySelector('#df-b39ecca6-0395-4231-81ee-16150d645b1b');\n",
              "          const dataTable =\n",
              "            await google.colab.kernel.invokeFunction('convertToInteractive',\n",
              "                                                     [key], {});\n",
              "          if (!dataTable) return;\n",
              "\n",
              "          const docLinkHtml = 'Like what you see? Visit the ' +\n",
              "            '<a target=\"_blank\" href=https://colab.research.google.com/notebooks/data_table.ipynb>data table notebook</a>'\n",
              "            + ' to learn more about interactive tables.';\n",
              "          element.innerHTML = '';\n",
              "          dataTable['output_type'] = 'display_data';\n",
              "          await google.colab.output.renderOutput(dataTable, element);\n",
              "          const docLink = document.createElement('div');\n",
              "          docLink.innerHTML = docLinkHtml;\n",
              "          element.appendChild(docLink);\n",
              "        }\n",
              "      </script>\n",
              "    </div>\n",
              "  </div>\n",
              "  "
            ]
          },
          "metadata": {},
          "execution_count": 8
        }
      ]
    },
    {
      "cell_type": "markdown",
      "source": [
        "definindo feature de entrada e as classes. Padrão de nome do bert (text e labels)\n",
        "***"
      ],
      "metadata": {
        "id": "36mXhLCa7ln1"
      }
    },
    {
      "cell_type": "code",
      "source": [
        "text = df.text.values\n",
        "labels = df.label.values"
      ],
      "metadata": {
        "id": "RfozDBxK7eSG"
      },
      "execution_count": null,
      "outputs": []
    },
    {
      "cell_type": "markdown",
      "source": [
        "Tokeninando com o Bert tokenizer\n"
      ],
      "metadata": {
        "id": "Gwyz-lYy74wZ"
      }
    },
    {
      "cell_type": "code",
      "source": [
        "tokenizer = BertTokenizer.from_pretrained(\n",
        "    'bert-base-uncased',\n",
        "    do_lower_case = True\n",
        "    )"
      ],
      "metadata": {
        "colab": {
          "base_uri": "https://localhost:8080/",
          "height": 113,
          "referenced_widgets": [
            "ac8aae282b594e3c96c064ad875d6816",
            "e451bbe3c0374c31b86d3c6c46cb4182",
            "2eda5c28eb62480d918ffd21ec6b93e5",
            "6def3e96777a48e296f20c0f450e1d8c",
            "e5ad29c2aedf4433894a0f4eb5609570",
            "9d2c01e763e441c8a10f76c904279d38",
            "9a585d19eccd4a0c9b467b6ae2b5ac66",
            "e37f425d0f6b482bb7623346b15182e8",
            "0e19c716680540fa827e1a6a93e42cee",
            "fbe1353d06f140c1a2cd0e65350680ae",
            "9f4bb21577124d489d8d81dfaa811466",
            "eb24ce7c08334ce4950263c10f2bce2b",
            "24ab4e0e0de845ff907e63a7cc2bc83f",
            "2c4b47e082204bbe94cd0f7a540e4a02",
            "0868968481004ef2891fb9011861178e",
            "297f3249e60e4102bf201b27df7cd0c7",
            "91cee46189404265bd1969e739e23c3d",
            "9c0e78423d5b4a58a2e44f51c06eb5eb",
            "5b54e6f7c77f4bd0aefa1f8c522ce371",
            "bdabe1cd2d664097a24dccfd09fe35aa",
            "e10b3d537eeb4a98bccc01dd107f529e",
            "31a8add2104841b5a4122217f7c57ab5",
            "6f6cf49f79fd4d0484abcccfd59e3d1a",
            "9f79d9b7deb040b0817a0a4f49c128a3",
            "969fa6ceed244b87a689a0e15dc054cb",
            "ec48c9518f3041288c59c302b9fb9cfe",
            "a8650720e12e40c1be1c6d93fec98082",
            "db8f44583f714f1fa339e81bdf5dfcae",
            "c1a6f9bbae4c47c38c56b4f3247f105a",
            "52448102be044689bd6ee0db7f659ac7",
            "a791e6c011d54b808da5908deae23ef3",
            "98c9b3b4a705424cbd5f740bd9552d96",
            "f63d8e322be54c5684d9dd7acd746b05"
          ]
        },
        "id": "Wx-Od5oi736-",
        "outputId": "cf02a145-0b41-40b3-bb42-34d523512097"
      },
      "execution_count": null,
      "outputs": [
        {
          "output_type": "display_data",
          "data": {
            "text/plain": [
              "Downloading:   0%|          | 0.00/232k [00:00<?, ?B/s]"
            ],
            "application/vnd.jupyter.widget-view+json": {
              "version_major": 2,
              "version_minor": 0,
              "model_id": "ac8aae282b594e3c96c064ad875d6816"
            }
          },
          "metadata": {}
        },
        {
          "output_type": "display_data",
          "data": {
            "text/plain": [
              "Downloading:   0%|          | 0.00/28.0 [00:00<?, ?B/s]"
            ],
            "application/vnd.jupyter.widget-view+json": {
              "version_major": 2,
              "version_minor": 0,
              "model_id": "eb24ce7c08334ce4950263c10f2bce2b"
            }
          },
          "metadata": {}
        },
        {
          "output_type": "display_data",
          "data": {
            "text/plain": [
              "Downloading:   0%|          | 0.00/570 [00:00<?, ?B/s]"
            ],
            "application/vnd.jupyter.widget-view+json": {
              "version_major": 2,
              "version_minor": 0,
              "model_id": "6f6cf49f79fd4d0484abcccfd59e3d1a"
            }
          },
          "metadata": {}
        }
      ]
    },
    {
      "cell_type": "markdown",
      "source": [
        "Observando como o bert tokeniza e mapeia os tokens de"
      ],
      "metadata": {
        "id": "lERtKeBv8SIt"
      }
    },
    {
      "cell_type": "code",
      "source": [
        "def print_rand_sentence():\n",
        "  '''Displays the tokens and respective IDs of a random text sample'''\n",
        "  index = random.randint(0, len(text)-1)\n",
        "  table = np.array([tokenizer.tokenize(text[index]), \n",
        "                    tokenizer.convert_tokens_to_ids(tokenizer.tokenize(text[index]))]).T\n",
        "  print(tabulate(table,\n",
        "                 headers = ['Tokens', 'Token IDs'],\n",
        "                 tablefmt = 'fancy_grid'))\n"
      ],
      "metadata": {
        "id": "3hhJBNJC-BUZ"
      },
      "execution_count": 11,
      "outputs": []
    },
    {
      "cell_type": "code",
      "source": [
        "print_rand_sentence()"
      ],
      "metadata": {
        "colab": {
          "base_uri": "https://localhost:8080/"
        },
        "id": "pI8oJaHF-LlT",
        "outputId": "8b040902-44ed-48cd-9992-bcf855fcab77"
      },
      "execution_count": 12,
      "outputs": [
        {
          "output_type": "stream",
          "name": "stdout",
          "text": [
            "╒══════════╤═════════════╕\n",
            "│ Tokens   │   Token IDs │\n",
            "╞══════════╪═════════════╡\n",
            "│ happy    │        3407 │\n",
            "├──────────┼─────────────┤\n",
            "│ new      │        2047 │\n",
            "├──────────┼─────────────┤\n",
            "│ year     │        2095 │\n",
            "├──────────┼─────────────┤\n",
            "│ my       │        2026 │\n",
            "├──────────┼─────────────┤\n",
            "│ no       │        2053 │\n",
            "├──────────┼─────────────┤\n",
            "│ .        │        1012 │\n",
            "├──────────┼─────────────┤\n",
            "│ 1        │        1015 │\n",
            "├──────────┼─────────────┤\n",
            "│ man      │        2158 │\n",
            "╘══════════╧═════════════╛\n"
          ]
        }
      ]
    },
    {
      "cell_type": "markdown",
      "source": [
        "### Etapas de preprocessamento exigidas para entrada do BERT\n",
        "***\n",
        "\n",
        "\n",
        "1.   Tokens especiais\n",
        "  - [CLS]: Adicionado no inicio de cada sentença(ID correspondente no BERT: 101)\n",
        "  - [SEP]: Adicionado no final de cada sentença (ID correspondente no BERT: 102)\n",
        "2.   Padronizar o tamanho das sentenças (Fazer todas do mesmo tamanho)\n",
        "  - As sentenças maiores que 512 tokens são truncadas e as menores são preenchidas com o token especial [PAD]. O ID correspondente no BERT para o [PAD] é O\n",
        "3. Criando uma attention mask\n",
        "  - indica os tokens que devem ser considerados no aprendizado. É uma lista de zeros e uns. Zeros indica que o token é um [PAD], portanto não tem elemento que contribue pra o aprendizado e deve ser ignorado.\n",
        "\n"
      ],
      "metadata": {
        "id": "veHrPpDl-aKI"
      }
    },
    {
      "cell_type": "markdown",
      "source": [
        "![input-bert-fig.png](data:image/png;base64,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)"
      ],
      "metadata": {
        "id": "VhDex1EZA1Tm"
      }
    },
    {
      "cell_type": "markdown",
      "source": [
        "Utilizando o método `encode_plus` para fazer as três etapas desse processo. Retornando:\n",
        "- input_ids: lista de ids do tokens de acordo com o BERT\n",
        "- token_type_ids: list especificando os tipos dos IDs\n",
        "- attention_mask: lsita de zeros e uns marcando onde é um token válido e onde é padding ([PAD]). Especificando `return_attention_mask = True` no parametro do método.\n"
      ],
      "metadata": {
        "id": "XCoklFn1Bl1t"
      }
    },
    {
      "cell_type": "code",
      "source": [
        "\n",
        "token_id = []\n",
        "attention_masks = []\n",
        "\n",
        "def preprocessing(input_text, tokenizer):\n",
        "  return tokenizer.encode_plus(\n",
        "                        input_text,\n",
        "                        add_special_tokens = True,\n",
        "                        max_length = 32,\n",
        "                        pad_to_max_length = True,\n",
        "                        return_attention_mask = True,\n",
        "                        return_tensors = 'pt'\n",
        "                   )"
      ],
      "metadata": {
        "id": "QFjkzw-7BCbu"
      },
      "execution_count": 13,
      "outputs": []
    },
    {
      "cell_type": "code",
      "source": [
        "for sample in text:\n",
        "  encoding_dict = preprocessing(sample, tokenizer)\n",
        "  token_id.append(encoding_dict['input_ids']) \n",
        "  attention_masks.append(encoding_dict['attention_mask'])\n",
        "\n",
        "\n",
        "token_id = torch.cat(token_id, dim = 0)\n",
        "attention_masks = torch.cat(attention_masks, dim = 0)\n",
        "labels = torch.tensor(labels)"
      ],
      "metadata": {
        "colab": {
          "base_uri": "https://localhost:8080/"
        },
        "id": "J8Ce8vUN-SDd",
        "outputId": "1c449b3a-9ff3-4b04-f0bd-914221668690"
      },
      "execution_count": 14,
      "outputs": [
        {
          "output_type": "stream",
          "name": "stderr",
          "text": [
            "Truncation was not explicitly activated but `max_length` is provided a specific value, please use `truncation=True` to explicitly truncate examples to max length. Defaulting to 'longest_first' truncation strategy. If you encode pairs of sequences (GLUE-style) with the tokenizer you can select this strategy more precisely by providing a specific strategy to `truncation`.\n",
            "/usr/local/lib/python3.7/dist-packages/transformers/tokenization_utils_base.py:2308: FutureWarning: The `pad_to_max_length` argument is deprecated and will be removed in a future version, use `padding=True` or `padding='longest'` to pad to the longest sequence in the batch, or use `padding='max_length'` to pad to a max length. In this case, you can give a specific length with `max_length` (e.g. `max_length=45`) or leave max_length to None to pad to the maximal input size of the model (e.g. 512 for Bert).\n",
            "  FutureWarning,\n"
          ]
        }
      ]
    },
    {
      "cell_type": "markdown",
      "source": [
        "Exemplo de ids dos tokens\n",
        "***\n",
        "  - O primeiro token (101) é o [CLS]\n",
        "  - O tokens que estão entre 101 e 102 correspondem aos tokens válidos da sentença\n",
        "  - o token 102 é o [SEP]\n",
        "  - os tokens zeros após [SEP] são paddings [PAD]\n",
        "  - O tamanho do tensor foi definido como 32 arbitrariamente. O tamanho máximo é 512"
      ],
      "metadata": {
        "id": "AA-WXUMrD4F6"
      }
    },
    {
      "cell_type": "code",
      "source": [
        "token_id[1]"
      ],
      "metadata": {
        "colab": {
          "base_uri": "https://localhost:8080/"
        },
        "id": "_p3_zT91DlZp",
        "outputId": "6ebb5eac-660c-42a3-dde3-37cf4342d235"
      },
      "execution_count": 33,
      "outputs": [
        {
          "output_type": "execute_result",
          "data": {
            "text/plain": [
              "tensor([  101,  7929,  2474,  2099,  1012,  1012,  1012, 16644, 15536,  2546,\n",
              "         1057,  2006,  2072,  1012,  1012,  1012,   102,     0,     0,     0,\n",
              "            0,     0,     0,     0,     0,     0,     0,     0,     0,     0,\n",
              "            0,     0])"
            ]
          },
          "metadata": {},
          "execution_count": 33
        }
      ]
    },
    {
      "cell_type": "code",
      "source": [
        "#Visualizando o mapeamento da sentença com o bert\n",
        "def print_rand_sentence_encoding():\n",
        "  index = 1 #random.randint(0, len(text) - 1)\n",
        "  tokens = tokenizer.tokenize(tokenizer.decode(token_id[index]))\n",
        "  token_ids = [i.numpy() for i in token_id[index]]\n",
        "  attention = [i.numpy() for i in attention_masks[index]]\n",
        "\n",
        "  table = np.array([tokens, token_ids, attention]).T\n",
        "  print(tabulate(table, \n",
        "                 headers = ['Tokens', 'Token IDs', 'Attention Mask'],\n",
        "                 tablefmt = 'fancy_grid'))\n"
      ],
      "metadata": {
        "id": "BdmMB4dMFDT3"
      },
      "execution_count": 34,
      "outputs": []
    },
    {
      "cell_type": "code",
      "source": [
        "print_rand_sentence_encoding()"
      ],
      "metadata": {
        "colab": {
          "base_uri": "https://localhost:8080/"
        },
        "id": "tw3LTvaOFurc",
        "outputId": "88d0b767-d228-4ec1-a32e-1fac820b1bb1"
      },
      "execution_count": 35,
      "outputs": [
        {
          "output_type": "stream",
          "name": "stdout",
          "text": [
            "╒══════════╤═════════════╤══════════════════╕\n",
            "│ Tokens   │   Token IDs │   Attention Mask │\n",
            "╞══════════╪═════════════╪══════════════════╡\n",
            "│ [CLS]    │         101 │                1 │\n",
            "├──────────┼─────────────┼──────────────────┤\n",
            "│ ok       │        7929 │                1 │\n",
            "├──────────┼─────────────┼──────────────────┤\n",
            "│ la       │        2474 │                1 │\n",
            "├──────────┼─────────────┼──────────────────┤\n",
            "│ ##r      │        2099 │                1 │\n",
            "├──────────┼─────────────┼──────────────────┤\n",
            "│ .        │        1012 │                1 │\n",
            "├──────────┼─────────────┼──────────────────┤\n",
            "│ .        │        1012 │                1 │\n",
            "├──────────┼─────────────┼──────────────────┤\n",
            "│ .        │        1012 │                1 │\n",
            "├──────────┼─────────────┼──────────────────┤\n",
            "│ joking   │       16644 │                1 │\n",
            "├──────────┼─────────────┼──────────────────┤\n",
            "│ wi       │       15536 │                1 │\n",
            "├──────────┼─────────────┼──────────────────┤\n",
            "│ ##f      │        2546 │                1 │\n",
            "├──────────┼─────────────┼──────────────────┤\n",
            "│ u        │        1057 │                1 │\n",
            "├──────────┼─────────────┼──────────────────┤\n",
            "│ on       │        2006 │                1 │\n",
            "├──────────┼─────────────┼──────────────────┤\n",
            "│ ##i      │        2072 │                1 │\n",
            "├──────────┼─────────────┼──────────────────┤\n",
            "│ .        │        1012 │                1 │\n",
            "├──────────┼─────────────┼──────────────────┤\n",
            "│ .        │        1012 │                1 │\n",
            "├──────────┼─────────────┼──────────────────┤\n",
            "│ .        │        1012 │                1 │\n",
            "├──────────┼─────────────┼──────────────────┤\n",
            "│ [SEP]    │         102 │                1 │\n",
            "├──────────┼─────────────┼──────────────────┤\n",
            "│ [PAD]    │           0 │                0 │\n",
            "├──────────┼─────────────┼──────────────────┤\n",
            "│ [PAD]    │           0 │                0 │\n",
            "├──────────┼─────────────┼──────────────────┤\n",
            "│ [PAD]    │           0 │                0 │\n",
            "├──────────┼─────────────┼──────────────────┤\n",
            "│ [PAD]    │           0 │                0 │\n",
            "├──────────┼─────────────┼──────────────────┤\n",
            "│ [PAD]    │           0 │                0 │\n",
            "├──────────┼─────────────┼──────────────────┤\n",
            "│ [PAD]    │           0 │                0 │\n",
            "├──────────┼─────────────┼──────────────────┤\n",
            "│ [PAD]    │           0 │                0 │\n",
            "├──────────┼─────────────┼──────────────────┤\n",
            "│ [PAD]    │           0 │                0 │\n",
            "├──────────┼─────────────┼──────────────────┤\n",
            "│ [PAD]    │           0 │                0 │\n",
            "├──────────┼─────────────┼──────────────────┤\n",
            "│ [PAD]    │           0 │                0 │\n",
            "├──────────┼─────────────┼──────────────────┤\n",
            "│ [PAD]    │           0 │                0 │\n",
            "├──────────┼─────────────┼──────────────────┤\n",
            "│ [PAD]    │           0 │                0 │\n",
            "├──────────┼─────────────┼──────────────────┤\n",
            "│ [PAD]    │           0 │                0 │\n",
            "├──────────┼─────────────┼──────────────────┤\n",
            "│ [PAD]    │           0 │                0 │\n",
            "├──────────┼─────────────┼──────────────────┤\n",
            "│ [PAD]    │           0 │                0 │\n",
            "╘══════════╧═════════════╧══════════════════╛\n"
          ]
        }
      ]
    },
    {
      "cell_type": "markdown",
      "source": [
        "### Divindo os dados em conjunto de trainamente e validação\n",
        "***"
      ],
      "metadata": {
        "id": "-V-WsGbCHtHX"
      }
    },
    {
      "cell_type": "code",
      "source": [
        "val_ratio = 0.2 #Divisão feita em: 80% para treino e 20% para validação. de forma estratificada, de acordo com as labels\n",
        "train_idx, val_idx = train_test_split(\n",
        "    np.arange(len(labels)),\n",
        "    test_size = val_ratio,\n",
        "    shuffle = True,\n",
        "    stratify = labels)\n",
        "\n",
        "# Train and validation sets\n",
        "train_set = TensorDataset(token_id[train_idx], \n",
        "                          attention_masks[train_idx], \n",
        "                          labels[train_idx])\n",
        "\n",
        "val_set = TensorDataset(token_id[val_idx], \n",
        "                        attention_masks[val_idx], \n",
        "                        labels[val_idx])\n",
        "\n"
      ],
      "metadata": {
        "id": "425Ris8xHzoE"
      },
      "execution_count": 36,
      "outputs": []
    },
    {
      "cell_type": "markdown",
      "source": [
        "Um iterador para o dataset é criado usando a classe `torch.DataLoader`. O `DataLoader` é responsável por selecionar aleatoriamente os lotes de treinamento"
      ],
      "metadata": {
        "id": "mEq6snZoRGwO"
      }
    },
    {
      "cell_type": "code",
      "source": [
        "# Prepare DataLoader\n",
        "# Tamanho do batch geralmente são: 16, 32. Recomendado pelo autores (artigo BERT)\n",
        "batch_size = 16\n",
        "train_dataloader = DataLoader(\n",
        "            train_set,\n",
        "            sampler = RandomSampler(train_set),\n",
        "            batch_size = batch_size\n",
        "        )\n",
        "\n",
        "validation_dataloader = DataLoader(\n",
        "            val_set,\n",
        "            sampler = SequentialSampler(val_set),\n",
        "            batch_size = batch_size\n",
        "        )"
      ],
      "metadata": {
        "id": "3VW0nUtSHHUF"
      },
      "execution_count": 37,
      "outputs": []
    },
    {
      "cell_type": "markdown",
      "source": [
        "### Trainamento\n",
        "***"
      ],
      "metadata": {
        "id": "5V4jRfQ4I_1t"
      }
    },
    {
      "cell_type": "markdown",
      "source": [
        "Parametros recomendados para o treinamento de acordo com a trabalho original\n",
        "  - Tamanho do batch: 16, 32\n",
        "  - Taxa de aprendizagem (Adam): 5e-5, 3e-5, 2e-5\n",
        "  - Número de épocas: 2, 3, 4\n",
        "  ***\n",
        "  Métricas de avaliação durante o processo de treinamento"
      ],
      "metadata": {
        "id": "uExPI4pCJOsP"
      }
    },
    {
      "cell_type": "code",
      "source": [
        "def b_tp(preds, labels):\n",
        "  '''Returns True Positives (TP): count of correct predictions of actual class 1'''\n",
        "  return sum([preds == labels and preds == 1 for preds, labels in zip(preds, labels)])\n",
        "\n",
        "def b_fp(preds, labels):\n",
        "  '''Returns False Positives (FP): count of wrong predictions of actual class 1'''\n",
        "  return sum([preds != labels and preds == 1 for preds, labels in zip(preds, labels)])\n",
        "\n",
        "def b_tn(preds, labels):\n",
        "  '''Returns True Negatives (TN): count of correct predictions of actual class 0'''\n",
        "  return sum([preds == labels and preds == 0 for preds, labels in zip(preds, labels)])\n",
        "\n",
        "def b_fn(preds, labels):\n",
        "  '''Returns False Negatives (FN): count of wrong predictions of actual class 0'''\n",
        "  return sum([preds != labels and preds == 0 for preds, labels in zip(preds, labels)])\n"
      ],
      "metadata": {
        "id": "l-sDvt7ZKj6k"
      },
      "execution_count": 39,
      "outputs": []
    },
    {
      "cell_type": "code",
      "source": [
        "def b_metrics(preds, labels):\n",
        "  '''\n",
        "  Returns the following metrics:\n",
        "    - accuracy    = (TP + TN) / N\n",
        "    - precision   = TP / (TP + FP)\n",
        "    - recall      = TP / (TP + FN)\n",
        "    - specificity = TN / (TN + FP)\n",
        "  '''\n",
        "  preds = np.argmax(preds, axis = 1).flatten()\n",
        "  labels = labels.flatten()\n",
        "  tp = b_tp(preds, labels)\n",
        "  tn = b_tn(preds, labels)\n",
        "  fp = b_fp(preds, labels)\n",
        "  fn = b_fn(preds, labels)\n",
        "  b_accuracy = (tp + tn) / len(labels)\n",
        "  b_precision = tp / (tp + fp) if (tp + fp) > 0 else 'nan'\n",
        "  b_recall = tp / (tp + fn) if (tp + fn) > 0 else 'nan'\n",
        "  b_specificity = tn / (tn + fp) if (tn + fp) > 0 else 'nan'\n",
        "  return b_accuracy, b_precision, b_recall, b_specificity"
      ],
      "metadata": {
        "id": "NNHDS0gsJdha"
      },
      "execution_count": 40,
      "outputs": []
    },
    {
      "cell_type": "markdown",
      "source": [
        "Baixando o Bert\n",
        "***\n",
        "usando o método `transformers.BertForSequenceClassification` voltado para classificação"
      ],
      "metadata": {
        "id": "6-9A1bozMvn-"
      }
    },
    {
      "cell_type": "code",
      "source": [
        "model = BertForSequenceClassification.from_pretrained(\n",
        "    'bert-base-uncased',\n",
        "    num_labels = 2,\n",
        "    output_attentions = False,\n",
        "    output_hidden_states = False,\n",
        ")"
      ],
      "metadata": {
        "colab": {
          "base_uri": "https://localhost:8080/",
          "height": 156,
          "referenced_widgets": [
            "2bedcd76000d4fdf9846305c4fc45391",
            "80134fbe620640e8ac3c66caddd41548",
            "0b915e141e75424eaa6dbeeff9a79fc0",
            "59dd7a3477934200a0ffcd3bbefdd3d4",
            "5cdc78ebf457460d85557e3ebdb05e8a",
            "89f24e8fde3d4d11abc4b8b8916a1830",
            "aa2e089c80d14bd8a44e78331202b967",
            "e20f791de7ca4daeb61af5148165d6d9",
            "8bed8ffc4ce24342b975d248d9d6c1a1",
            "eac58a4f763a44068cf8b6c172e08828",
            "188937e0d8dd42cba5b81cea1de52bc8"
          ]
        },
        "id": "081ONWwJKypE",
        "outputId": "4a19dfc6-a552-4785-c081-847d2d0c7ccf"
      },
      "execution_count": 41,
      "outputs": [
        {
          "output_type": "display_data",
          "data": {
            "text/plain": [
              "Downloading:   0%|          | 0.00/440M [00:00<?, ?B/s]"
            ],
            "application/vnd.jupyter.widget-view+json": {
              "version_major": 2,
              "version_minor": 0,
              "model_id": "2bedcd76000d4fdf9846305c4fc45391"
            }
          },
          "metadata": {}
        },
        {
          "output_type": "stream",
          "name": "stderr",
          "text": [
            "Some weights of the model checkpoint at bert-base-uncased were not used when initializing BertForSequenceClassification: ['cls.predictions.transform.LayerNorm.bias', 'cls.predictions.transform.dense.bias', 'cls.predictions.transform.dense.weight', 'cls.predictions.transform.LayerNorm.weight', 'cls.seq_relationship.weight', 'cls.seq_relationship.bias', 'cls.predictions.bias', 'cls.predictions.decoder.weight']\n",
            "- This IS expected if you are initializing BertForSequenceClassification from the checkpoint of a model trained on another task or with another architecture (e.g. initializing a BertForSequenceClassification model from a BertForPreTraining model).\n",
            "- This IS NOT expected if you are initializing BertForSequenceClassification from the checkpoint of a model that you expect to be exactly identical (initializing a BertForSequenceClassification model from a BertForSequenceClassification model).\n",
            "Some weights of BertForSequenceClassification were not initialized from the model checkpoint at bert-base-uncased and are newly initialized: ['classifier.weight', 'classifier.bias']\n",
            "You should probably TRAIN this model on a down-stream task to be able to use it for predictions and inference.\n"
          ]
        }
      ]
    },
    {
      "cell_type": "markdown",
      "source": [
        "Configurando a taxa de aprendizagem"
      ],
      "metadata": {
        "id": "TrBNmzvWNvtg"
      }
    },
    {
      "cell_type": "markdown",
      "source": [
        "  - lr: learning rate\n",
        "  - eps: Parametro epsilon, um número muito pequeno para evitar qualquer divisão por zero na implementação"
      ],
      "metadata": {
        "id": "dAWy_MGVRpuR"
      }
    },
    {
      "cell_type": "code",
      "source": [
        "optimizer = torch.optim.AdamW(model.parameters(), \n",
        "                              lr = 5e-5,\n",
        "                              eps = 1e-08\n",
        "                              )\n",
        "\n",
        "# usando a GPU do Colab pra executar\n",
        "model.cuda()"
      ],
      "metadata": {
        "colab": {
          "base_uri": "https://localhost:8080/"
        },
        "id": "0ClZlbEcI58g",
        "outputId": "e9045ef7-3cb1-4590-b5b1-1881e5450edb"
      },
      "execution_count": 42,
      "outputs": [
        {
          "output_type": "execute_result",
          "data": {
            "text/plain": [
              "BertForSequenceClassification(\n",
              "  (bert): BertModel(\n",
              "    (embeddings): BertEmbeddings(\n",
              "      (word_embeddings): Embedding(30522, 768, padding_idx=0)\n",
              "      (position_embeddings): Embedding(512, 768)\n",
              "      (token_type_embeddings): Embedding(2, 768)\n",
              "      (LayerNorm): LayerNorm((768,), eps=1e-12, elementwise_affine=True)\n",
              "      (dropout): Dropout(p=0.1, inplace=False)\n",
              "    )\n",
              "    (encoder): BertEncoder(\n",
              "      (layer): ModuleList(\n",
              "        (0): BertLayer(\n",
              "          (attention): BertAttention(\n",
              "            (self): BertSelfAttention(\n",
              "              (query): Linear(in_features=768, out_features=768, bias=True)\n",
              "              (key): Linear(in_features=768, out_features=768, bias=True)\n",
              "              (value): Linear(in_features=768, out_features=768, bias=True)\n",
              "              (dropout): Dropout(p=0.1, inplace=False)\n",
              "            )\n",
              "            (output): BertSelfOutput(\n",
              "              (dense): Linear(in_features=768, out_features=768, bias=True)\n",
              "              (LayerNorm): LayerNorm((768,), eps=1e-12, elementwise_affine=True)\n",
              "              (dropout): Dropout(p=0.1, inplace=False)\n",
              "            )\n",
              "          )\n",
              "          (intermediate): BertIntermediate(\n",
              "            (dense): Linear(in_features=768, out_features=3072, bias=True)\n",
              "            (intermediate_act_fn): GELUActivation()\n",
              "          )\n",
              "          (output): BertOutput(\n",
              "            (dense): Linear(in_features=3072, out_features=768, bias=True)\n",
              "            (LayerNorm): LayerNorm((768,), eps=1e-12, elementwise_affine=True)\n",
              "            (dropout): Dropout(p=0.1, inplace=False)\n",
              "          )\n",
              "        )\n",
              "        (1): BertLayer(\n",
              "          (attention): BertAttention(\n",
              "            (self): BertSelfAttention(\n",
              "              (query): Linear(in_features=768, out_features=768, bias=True)\n",
              "              (key): Linear(in_features=768, out_features=768, bias=True)\n",
              "              (value): Linear(in_features=768, out_features=768, bias=True)\n",
              "              (dropout): Dropout(p=0.1, inplace=False)\n",
              "            )\n",
              "            (output): BertSelfOutput(\n",
              "              (dense): Linear(in_features=768, out_features=768, bias=True)\n",
              "              (LayerNorm): LayerNorm((768,), eps=1e-12, elementwise_affine=True)\n",
              "              (dropout): Dropout(p=0.1, inplace=False)\n",
              "            )\n",
              "          )\n",
              "          (intermediate): BertIntermediate(\n",
              "            (dense): Linear(in_features=768, out_features=3072, bias=True)\n",
              "            (intermediate_act_fn): GELUActivation()\n",
              "          )\n",
              "          (output): BertOutput(\n",
              "            (dense): Linear(in_features=3072, out_features=768, bias=True)\n",
              "            (LayerNorm): LayerNorm((768,), eps=1e-12, elementwise_affine=True)\n",
              "            (dropout): Dropout(p=0.1, inplace=False)\n",
              "          )\n",
              "        )\n",
              "        (2): BertLayer(\n",
              "          (attention): BertAttention(\n",
              "            (self): BertSelfAttention(\n",
              "              (query): Linear(in_features=768, out_features=768, bias=True)\n",
              "              (key): Linear(in_features=768, out_features=768, bias=True)\n",
              "              (value): Linear(in_features=768, out_features=768, bias=True)\n",
              "              (dropout): Dropout(p=0.1, inplace=False)\n",
              "            )\n",
              "            (output): BertSelfOutput(\n",
              "              (dense): Linear(in_features=768, out_features=768, bias=True)\n",
              "              (LayerNorm): LayerNorm((768,), eps=1e-12, elementwise_affine=True)\n",
              "              (dropout): Dropout(p=0.1, inplace=False)\n",
              "            )\n",
              "          )\n",
              "          (intermediate): BertIntermediate(\n",
              "            (dense): Linear(in_features=768, out_features=3072, bias=True)\n",
              "            (intermediate_act_fn): GELUActivation()\n",
              "          )\n",
              "          (output): BertOutput(\n",
              "            (dense): Linear(in_features=3072, out_features=768, bias=True)\n",
              "            (LayerNorm): LayerNorm((768,), eps=1e-12, elementwise_affine=True)\n",
              "            (dropout): Dropout(p=0.1, inplace=False)\n",
              "          )\n",
              "        )\n",
              "        (3): BertLayer(\n",
              "          (attention): BertAttention(\n",
              "            (self): BertSelfAttention(\n",
              "              (query): Linear(in_features=768, out_features=768, bias=True)\n",
              "              (key): Linear(in_features=768, out_features=768, bias=True)\n",
              "              (value): Linear(in_features=768, out_features=768, bias=True)\n",
              "              (dropout): Dropout(p=0.1, inplace=False)\n",
              "            )\n",
              "            (output): BertSelfOutput(\n",
              "              (dense): Linear(in_features=768, out_features=768, bias=True)\n",
              "              (LayerNorm): LayerNorm((768,), eps=1e-12, elementwise_affine=True)\n",
              "              (dropout): Dropout(p=0.1, inplace=False)\n",
              "            )\n",
              "          )\n",
              "          (intermediate): BertIntermediate(\n",
              "            (dense): Linear(in_features=768, out_features=3072, bias=True)\n",
              "            (intermediate_act_fn): GELUActivation()\n",
              "          )\n",
              "          (output): BertOutput(\n",
              "            (dense): Linear(in_features=3072, out_features=768, bias=True)\n",
              "            (LayerNorm): LayerNorm((768,), eps=1e-12, elementwise_affine=True)\n",
              "            (dropout): Dropout(p=0.1, inplace=False)\n",
              "          )\n",
              "        )\n",
              "        (4): BertLayer(\n",
              "          (attention): BertAttention(\n",
              "            (self): BertSelfAttention(\n",
              "              (query): Linear(in_features=768, out_features=768, bias=True)\n",
              "              (key): Linear(in_features=768, out_features=768, bias=True)\n",
              "              (value): Linear(in_features=768, out_features=768, bias=True)\n",
              "              (dropout): Dropout(p=0.1, inplace=False)\n",
              "            )\n",
              "            (output): BertSelfOutput(\n",
              "              (dense): Linear(in_features=768, out_features=768, bias=True)\n",
              "              (LayerNorm): LayerNorm((768,), eps=1e-12, elementwise_affine=True)\n",
              "              (dropout): Dropout(p=0.1, inplace=False)\n",
              "            )\n",
              "          )\n",
              "          (intermediate): BertIntermediate(\n",
              "            (dense): Linear(in_features=768, out_features=3072, bias=True)\n",
              "            (intermediate_act_fn): GELUActivation()\n",
              "          )\n",
              "          (output): BertOutput(\n",
              "            (dense): Linear(in_features=3072, out_features=768, bias=True)\n",
              "            (LayerNorm): LayerNorm((768,), eps=1e-12, elementwise_affine=True)\n",
              "            (dropout): Dropout(p=0.1, inplace=False)\n",
              "          )\n",
              "        )\n",
              "        (5): BertLayer(\n",
              "          (attention): BertAttention(\n",
              "            (self): BertSelfAttention(\n",
              "              (query): Linear(in_features=768, out_features=768, bias=True)\n",
              "              (key): Linear(in_features=768, out_features=768, bias=True)\n",
              "              (value): Linear(in_features=768, out_features=768, bias=True)\n",
              "              (dropout): Dropout(p=0.1, inplace=False)\n",
              "            )\n",
              "            (output): BertSelfOutput(\n",
              "              (dense): Linear(in_features=768, out_features=768, bias=True)\n",
              "              (LayerNorm): LayerNorm((768,), eps=1e-12, elementwise_affine=True)\n",
              "              (dropout): Dropout(p=0.1, inplace=False)\n",
              "            )\n",
              "          )\n",
              "          (intermediate): BertIntermediate(\n",
              "            (dense): Linear(in_features=768, out_features=3072, bias=True)\n",
              "            (intermediate_act_fn): GELUActivation()\n",
              "          )\n",
              "          (output): BertOutput(\n",
              "            (dense): Linear(in_features=3072, out_features=768, bias=True)\n",
              "            (LayerNorm): LayerNorm((768,), eps=1e-12, elementwise_affine=True)\n",
              "            (dropout): Dropout(p=0.1, inplace=False)\n",
              "          )\n",
              "        )\n",
              "        (6): BertLayer(\n",
              "          (attention): BertAttention(\n",
              "            (self): BertSelfAttention(\n",
              "              (query): Linear(in_features=768, out_features=768, bias=True)\n",
              "              (key): Linear(in_features=768, out_features=768, bias=True)\n",
              "              (value): Linear(in_features=768, out_features=768, bias=True)\n",
              "              (dropout): Dropout(p=0.1, inplace=False)\n",
              "            )\n",
              "            (output): BertSelfOutput(\n",
              "              (dense): Linear(in_features=768, out_features=768, bias=True)\n",
              "              (LayerNorm): LayerNorm((768,), eps=1e-12, elementwise_affine=True)\n",
              "              (dropout): Dropout(p=0.1, inplace=False)\n",
              "            )\n",
              "          )\n",
              "          (intermediate): BertIntermediate(\n",
              "            (dense): Linear(in_features=768, out_features=3072, bias=True)\n",
              "            (intermediate_act_fn): GELUActivation()\n",
              "          )\n",
              "          (output): BertOutput(\n",
              "            (dense): Linear(in_features=3072, out_features=768, bias=True)\n",
              "            (LayerNorm): LayerNorm((768,), eps=1e-12, elementwise_affine=True)\n",
              "            (dropout): Dropout(p=0.1, inplace=False)\n",
              "          )\n",
              "        )\n",
              "        (7): BertLayer(\n",
              "          (attention): BertAttention(\n",
              "            (self): BertSelfAttention(\n",
              "              (query): Linear(in_features=768, out_features=768, bias=True)\n",
              "              (key): Linear(in_features=768, out_features=768, bias=True)\n",
              "              (value): Linear(in_features=768, out_features=768, bias=True)\n",
              "              (dropout): Dropout(p=0.1, inplace=False)\n",
              "            )\n",
              "            (output): BertSelfOutput(\n",
              "              (dense): Linear(in_features=768, out_features=768, bias=True)\n",
              "              (LayerNorm): LayerNorm((768,), eps=1e-12, elementwise_affine=True)\n",
              "              (dropout): Dropout(p=0.1, inplace=False)\n",
              "            )\n",
              "          )\n",
              "          (intermediate): BertIntermediate(\n",
              "            (dense): Linear(in_features=768, out_features=3072, bias=True)\n",
              "            (intermediate_act_fn): GELUActivation()\n",
              "          )\n",
              "          (output): BertOutput(\n",
              "            (dense): Linear(in_features=3072, out_features=768, bias=True)\n",
              "            (LayerNorm): LayerNorm((768,), eps=1e-12, elementwise_affine=True)\n",
              "            (dropout): Dropout(p=0.1, inplace=False)\n",
              "          )\n",
              "        )\n",
              "        (8): BertLayer(\n",
              "          (attention): BertAttention(\n",
              "            (self): BertSelfAttention(\n",
              "              (query): Linear(in_features=768, out_features=768, bias=True)\n",
              "              (key): Linear(in_features=768, out_features=768, bias=True)\n",
              "              (value): Linear(in_features=768, out_features=768, bias=True)\n",
              "              (dropout): Dropout(p=0.1, inplace=False)\n",
              "            )\n",
              "            (output): BertSelfOutput(\n",
              "              (dense): Linear(in_features=768, out_features=768, bias=True)\n",
              "              (LayerNorm): LayerNorm((768,), eps=1e-12, elementwise_affine=True)\n",
              "              (dropout): Dropout(p=0.1, inplace=False)\n",
              "            )\n",
              "          )\n",
              "          (intermediate): BertIntermediate(\n",
              "            (dense): Linear(in_features=768, out_features=3072, bias=True)\n",
              "            (intermediate_act_fn): GELUActivation()\n",
              "          )\n",
              "          (output): BertOutput(\n",
              "            (dense): Linear(in_features=3072, out_features=768, bias=True)\n",
              "            (LayerNorm): LayerNorm((768,), eps=1e-12, elementwise_affine=True)\n",
              "            (dropout): Dropout(p=0.1, inplace=False)\n",
              "          )\n",
              "        )\n",
              "        (9): BertLayer(\n",
              "          (attention): BertAttention(\n",
              "            (self): BertSelfAttention(\n",
              "              (query): Linear(in_features=768, out_features=768, bias=True)\n",
              "              (key): Linear(in_features=768, out_features=768, bias=True)\n",
              "              (value): Linear(in_features=768, out_features=768, bias=True)\n",
              "              (dropout): Dropout(p=0.1, inplace=False)\n",
              "            )\n",
              "            (output): BertSelfOutput(\n",
              "              (dense): Linear(in_features=768, out_features=768, bias=True)\n",
              "              (LayerNorm): LayerNorm((768,), eps=1e-12, elementwise_affine=True)\n",
              "              (dropout): Dropout(p=0.1, inplace=False)\n",
              "            )\n",
              "          )\n",
              "          (intermediate): BertIntermediate(\n",
              "            (dense): Linear(in_features=768, out_features=3072, bias=True)\n",
              "            (intermediate_act_fn): GELUActivation()\n",
              "          )\n",
              "          (output): BertOutput(\n",
              "            (dense): Linear(in_features=3072, out_features=768, bias=True)\n",
              "            (LayerNorm): LayerNorm((768,), eps=1e-12, elementwise_affine=True)\n",
              "            (dropout): Dropout(p=0.1, inplace=False)\n",
              "          )\n",
              "        )\n",
              "        (10): BertLayer(\n",
              "          (attention): BertAttention(\n",
              "            (self): BertSelfAttention(\n",
              "              (query): Linear(in_features=768, out_features=768, bias=True)\n",
              "              (key): Linear(in_features=768, out_features=768, bias=True)\n",
              "              (value): Linear(in_features=768, out_features=768, bias=True)\n",
              "              (dropout): Dropout(p=0.1, inplace=False)\n",
              "            )\n",
              "            (output): BertSelfOutput(\n",
              "              (dense): Linear(in_features=768, out_features=768, bias=True)\n",
              "              (LayerNorm): LayerNorm((768,), eps=1e-12, elementwise_affine=True)\n",
              "              (dropout): Dropout(p=0.1, inplace=False)\n",
              "            )\n",
              "          )\n",
              "          (intermediate): BertIntermediate(\n",
              "            (dense): Linear(in_features=768, out_features=3072, bias=True)\n",
              "            (intermediate_act_fn): GELUActivation()\n",
              "          )\n",
              "          (output): BertOutput(\n",
              "            (dense): Linear(in_features=3072, out_features=768, bias=True)\n",
              "            (LayerNorm): LayerNorm((768,), eps=1e-12, elementwise_affine=True)\n",
              "            (dropout): Dropout(p=0.1, inplace=False)\n",
              "          )\n",
              "        )\n",
              "        (11): BertLayer(\n",
              "          (attention): BertAttention(\n",
              "            (self): BertSelfAttention(\n",
              "              (query): Linear(in_features=768, out_features=768, bias=True)\n",
              "              (key): Linear(in_features=768, out_features=768, bias=True)\n",
              "              (value): Linear(in_features=768, out_features=768, bias=True)\n",
              "              (dropout): Dropout(p=0.1, inplace=False)\n",
              "            )\n",
              "            (output): BertSelfOutput(\n",
              "              (dense): Linear(in_features=768, out_features=768, bias=True)\n",
              "              (LayerNorm): LayerNorm((768,), eps=1e-12, elementwise_affine=True)\n",
              "              (dropout): Dropout(p=0.1, inplace=False)\n",
              "            )\n",
              "          )\n",
              "          (intermediate): BertIntermediate(\n",
              "            (dense): Linear(in_features=768, out_features=3072, bias=True)\n",
              "            (intermediate_act_fn): GELUActivation()\n",
              "          )\n",
              "          (output): BertOutput(\n",
              "            (dense): Linear(in_features=3072, out_features=768, bias=True)\n",
              "            (LayerNorm): LayerNorm((768,), eps=1e-12, elementwise_affine=True)\n",
              "            (dropout): Dropout(p=0.1, inplace=False)\n",
              "          )\n",
              "        )\n",
              "      )\n",
              "    )\n",
              "    (pooler): BertPooler(\n",
              "      (dense): Linear(in_features=768, out_features=768, bias=True)\n",
              "      (activation): Tanh()\n",
              "    )\n",
              "  )\n",
              "  (dropout): Dropout(p=0.1, inplace=False)\n",
              "  (classifier): Linear(in_features=768, out_features=2, bias=True)\n",
              ")"
            ]
          },
          "metadata": {},
          "execution_count": 42
        }
      ]
    },
    {
      "cell_type": "markdown",
      "source": [
        "Inciando o processo de treinamento"
      ],
      "metadata": {
        "id": "ZcSGUz0nN9Ta"
      }
    },
    {
      "cell_type": "code",
      "source": [
        "device = torch.device('cuda' if torch.cuda.is_available() else 'cpu')"
      ],
      "metadata": {
        "id": "E3lDz9D-ONSj"
      },
      "execution_count": 43,
      "outputs": []
    },
    {
      "cell_type": "code",
      "source": [
        "epochs = 2\n",
        "\n",
        "for _ in trange(epochs, desc = 'Epoch'):\n",
        "    \n",
        "    # ========== Training ==========\n",
        "    \n",
        "    # Set model to training mode\n",
        "    model.train()\n",
        "    \n",
        "    # Tracking variables\n",
        "    tr_loss = 0\n",
        "    nb_tr_examples, nb_tr_steps = 0, 0\n",
        "\n",
        "    for step, batch in enumerate(train_dataloader):\n",
        "        batch = tuple(t.to(device) for t in batch)\n",
        "        b_input_ids, b_input_mask, b_labels = batch\n",
        "        optimizer.zero_grad()\n",
        "        # Forward pass\n",
        "        train_output = model(b_input_ids, \n",
        "                             token_type_ids = None, \n",
        "                             attention_mask = b_input_mask, \n",
        "                             labels = b_labels)\n",
        "        # Backward pass\n",
        "        train_output.loss.backward()\n",
        "        optimizer.step()\n",
        "        # Update tracking variables\n",
        "        tr_loss += train_output.loss.item()\n",
        "        nb_tr_examples += b_input_ids.size(0)\n",
        "        nb_tr_steps += 1\n",
        "\n",
        "    # ========== Validation ==========\n",
        "\n",
        "    # Set model to evaluation mode\n",
        "    model.eval()\n",
        "\n",
        "    # Tracking variables \n",
        "    val_accuracy = []\n",
        "    val_precision = []\n",
        "    val_recall = []\n",
        "    val_specificity = []\n",
        "\n",
        "    for batch in validation_dataloader:\n",
        "        batch = tuple(t.to(device) for t in batch)\n",
        "        b_input_ids, b_input_mask, b_labels = batch\n",
        "        with torch.no_grad():\n",
        "          # Forward pass\n",
        "          eval_output = model(b_input_ids, \n",
        "                              token_type_ids = None, \n",
        "                              attention_mask = b_input_mask)\n",
        "        logits = eval_output.logits.detach().cpu().numpy()\n",
        "        label_ids = b_labels.to('cpu').numpy()\n",
        "        # Calculate validation metrics\n",
        "        b_accuracy, b_precision, b_recall, b_specificity = b_metrics(logits, label_ids)\n",
        "        val_accuracy.append(b_accuracy)\n",
        "        # Update precision only when (tp + fp) !=0; ignore nan\n",
        "        if b_precision != 'nan': val_precision.append(b_precision)\n",
        "        # Update recall only when (tp + fn) !=0; ignore nan\n",
        "        if b_recall != 'nan': val_recall.append(b_recall)\n",
        "        # Update specificity only when (tn + fp) !=0; ignore nan\n",
        "        if b_specificity != 'nan': val_specificity.append(b_specificity)\n",
        "\n",
        "    print('\\n\\t - Train loss: {:.4f}'.format(tr_loss / nb_tr_steps))\n",
        "    print('\\t - Validation Accuracy: {:.4f}'.format(sum(val_accuracy)/len(val_accuracy)))\n",
        "    print('\\t - Validation Precision: {:.4f}'.format(sum(val_precision)/len(val_precision)) if len(val_precision)>0 else '\\t - Validation Precision: NaN')\n",
        "    print('\\t - Validation Recall: {:.4f}'.format(sum(val_recall)/len(val_recall)) if len(val_recall)>0 else '\\t - Validation Recall: NaN')\n",
        "    print('\\t - Validation Specificity: {:.4f}\\n'.format(sum(val_specificity)/len(val_specificity)) if len(val_specificity)>0 else '\\t - Validation Specificity: NaN')"
      ],
      "metadata": {
        "colab": {
          "base_uri": "https://localhost:8080/"
        },
        "id": "ASLGCdSENi9J",
        "outputId": "abf1daf2-d38b-499d-af8e-19fb7fec06ee"
      },
      "execution_count": 44,
      "outputs": [
        {
          "output_type": "stream",
          "name": "stderr",
          "text": [
            "Epoch:  50%|█████     | 1/2 [00:37<00:37, 37.73s/it]"
          ]
        },
        {
          "output_type": "stream",
          "name": "stdout",
          "text": [
            "\n",
            "\t - Train loss: 0.0925\n",
            "\t - Validation Accuracy: 0.9830\n",
            "\t - Validation Precision: 0.9361\n",
            "\t - Validation Recall: 0.9139\n",
            "\t - Validation Specificity: 0.9919\n",
            "\n"
          ]
        },
        {
          "output_type": "stream",
          "name": "stderr",
          "text": [
            "Epoch: 100%|██████████| 2/2 [01:14<00:00, 37.27s/it]"
          ]
        },
        {
          "output_type": "stream",
          "name": "stdout",
          "text": [
            "\n",
            "\t - Train loss: 0.0269\n",
            "\t - Validation Accuracy: 0.9893\n",
            "\t - Validation Precision: 0.9647\n",
            "\t - Validation Recall: 0.9333\n",
            "\t - Validation Specificity: 0.9960\n",
            "\n"
          ]
        },
        {
          "output_type": "stream",
          "name": "stderr",
          "text": [
            "\n"
          ]
        }
      ]
    },
    {
      "cell_type": "markdown",
      "source": [
        "### Fazendo previsões com o modelo reajustado\n",
        "***"
      ],
      "metadata": {
        "id": "_yz6gagwO5mF"
      }
    },
    {
      "cell_type": "code",
      "source": [
        "new_sentence = 'WINNER!! As a valued network customer you have been selected to receivea £900 prize reward! To claim call 09061701461. Claim code KL341. Valid 12 hours only.'\n",
        "\n",
        "# We need Token IDs and Attention Mask for inference on the new sentence\n",
        "test_ids = []\n",
        "test_attention_mask = []\n",
        "\n",
        "# Apply the tokenizer\n",
        "encoding = preprocessing(new_sentence, tokenizer)\n",
        "\n",
        "# Extract IDs and Attention Mask\n",
        "test_ids.append(encoding['input_ids'])\n",
        "test_attention_mask.append(encoding['attention_mask'])\n",
        "test_ids = torch.cat(test_ids, dim = 0)\n",
        "test_attention_mask = torch.cat(test_attention_mask, dim = 0)\n",
        "\n",
        "# Forward pass, calculate logit predictions\n",
        "with torch.no_grad():\n",
        "  output = model(test_ids.to(device), token_type_ids = None, attention_mask = test_attention_mask.to(device))\n",
        "\n",
        "prediction = 'Spam' if np.argmax(output.logits.cpu().numpy()).flatten().item() == 1 else 'Ham'\n",
        "\n",
        "print('Nova sentença: ', new_sentence)\n",
        "print('Classe predita: ', prediction)"
      ],
      "metadata": {
        "colab": {
          "base_uri": "https://localhost:8080/"
        },
        "id": "99zXgO_UPFKT",
        "outputId": "eb0e6819-1d56-4076-893c-7fe2130d24f9"
      },
      "execution_count": 45,
      "outputs": [
        {
          "output_type": "stream",
          "name": "stdout",
          "text": [
            "Nova sentença:  WINNER!! As a valued network customer you have been selected to receivea £900 prize reward! To claim call 09061701461. Claim code KL341. Valid 12 hours only.\n",
            "Classe predita:  Spam\n"
          ]
        },
        {
          "output_type": "stream",
          "name": "stderr",
          "text": [
            "/usr/local/lib/python3.7/dist-packages/transformers/tokenization_utils_base.py:2308: FutureWarning: The `pad_to_max_length` argument is deprecated and will be removed in a future version, use `padding=True` or `padding='longest'` to pad to the longest sequence in the batch, or use `padding='max_length'` to pad to a max length. In this case, you can give a specific length with `max_length` (e.g. `max_length=45`) or leave max_length to None to pad to the maximal input size of the model (e.g. 512 for Bert).\n",
            "  FutureWarning,\n"
          ]
        }
      ]
    },
    {
      "cell_type": "code",
      "source": [],
      "metadata": {
        "id": "tLWYGQhbP8zU"
      },
      "execution_count": null,
      "outputs": []
    }
  ]
}